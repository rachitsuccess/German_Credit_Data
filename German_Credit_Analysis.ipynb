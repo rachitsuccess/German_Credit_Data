{
 "cells": [
  {
   "cell_type": "markdown",
   "metadata": {},
   "source": [
    "# <font color ='lightseagreen'>German Credit Analysis"
   ]
  },
  {
   "cell_type": "markdown",
   "metadata": {},
   "source": [
    "# <font color='crimson'>Table of Contents"
   ]
  },
  {
   "cell_type": "markdown",
   "metadata": {},
   "source": [
    "1. [Introduction](German_Credit_Analysis.ipynb#introduction)\n",
    "2. [Libraries and Dataset](#library)\n",
    "    1.  [Import Libraries](#import_lib)\n",
    "    2.  [About the Data](#dataset)\n",
    "3. [Feature Engineering](#fe)\n",
    "    1.  [Separating Datasets](#separate)\n",
    "    2.  [Age Grouping](#age_group)\n",
    "4. [Exploratory Data Analysis](#eda)\n",
    "    1.  [Exploring Sex vs. Age](#SexAge)\n",
    "    2.  [Exploring Sex vs. Job](#SexJob)\n",
    "    3.  [Exploring Sex vs. Purpose](#SexPurpose)\n",
    "    4.  [Exploring Sex vs. Housing](#SexHousing)\n",
    "    5.  [Relationship b/w Sex and Risk](#SexRisk)\n",
    "    6.  [Credit Distribution](#credit)\n",
    "    7.  [Exploring Purpse](#PurposeDist)\n",
    "    8.  [Features behavior by Age Groups](#age_groups)\n",
    "    9.  [Checking Accounts](#ca)\n",
    "    10. [Purpose with Risk factor](#PurposeRisk)\n",
    "    11. [Exploring Saving Accounts](#sa)\n",
    "    12. [Loan Duration Distribution and density](#duration)\n",
    "5. [Correlation](#corr)\n",
    "6. [Data Preprocessing](#preprocessing)\n",
    "    1.  [Drop unwanted features](#drop)\n",
    "    2.  [Applying Encoding techniques](#encoding)\n",
    "    3.  [Scaling the data](#scaling)\n",
    "    4.  [Define X and y](#Xy)\n",
    "    5.  [Splitting data into train and test](#split)\n",
    "7. [Applying Classification Algorithms](#algo)\n",
    "    1.  [Logistic Regression](#logit)\n",
    "    2.  [K-Nearest Neighbors](#knn)\n",
    "    3.  [Gaussian Naive Bayes](#nb)\n",
    "    4.  [Decision Tree](#tree)\n",
    "    5.  [Random Forest](#forest)\n",
    "    6.  [XGBoost](#xgboost)\n",
    "    7.  [Bagging](#bagging)\n",
    "    8.  [AdaBoost](#ada)\n",
    "    9.  [Extra-Tree](#xtra)\n",
    "    10. [Voting Classifier](#voting)\n",
    "    11. [Comparing Algorithms](#compare)\n",
    "8. [Finalyzing the model](#save)"
   ]
  },
  {
   "cell_type": "markdown",
   "metadata": {},
   "source": [
    "# <a id='introduction'></a>1. Introduction"
   ]
  },
  {
   "cell_type": "markdown",
   "metadata": {},
   "source": [
    "**Context**\n",
    "\n",
    "The original dataset contains 1000 entries with 20 categorial/symbolic attributes prepared by Prof. Hofmann. In this dataset, each entry represents a person who takes a credit by a bank. Each person is classified as good or bad credit risks according to the set of attributes. The link to the original dataset can be found below.\n",
    "\n",
    "**Content**\n",
    "\n",
    "It is almost impossible to understand the original dataset due to its complicated system of categories and symbols. Thus, I wrote a small Python script to convert it into a readable CSV file. Several columns are simply ignored, because in my opinion either they are not important or their descriptions are obscure. The selected attributes are:\n",
    "\n",
    ">- Age (numeric)\n",
    "- Sex (text: male, female)\n",
    "- Job (numeric: 0 - unskilled and non-resident, 1 - unskilled and resident, 2 - skilled, 3 - highly skilled)\n",
    "- Housing (text: own, rent, or free)\n",
    "- Saving accounts (text - little, moderate, quite rich, rich)\n",
    "- Checking account (numeric, in DM - Deutsch Mark)\n",
    "- Credit amount (numeric, in DM)\n",
    "- Duration (numeric, in month)\n",
    "- Purpose(text: car, furniture/equipment, radio/TV, domestic appliances, repairs, education, business, vacation/others\n",
    "- Risk (Value target - Good or Bad Risk)"
   ]
  },
  {
   "cell_type": "markdown",
   "metadata": {},
   "source": [
    "\n",
    "# <a id='library'></a>2. Importing necessary libraries and dataset "
   ]
  },
  {
   "cell_type": "markdown",
   "metadata": {},
   "source": [
    "## <a id='import_lib'></a> 2a. Importing Libraries"
   ]
  },
  {
   "cell_type": "code",
   "execution_count": 1,
   "metadata": {},
   "outputs": [],
   "source": [
    "# Importing libraries\n",
    "\n",
    "import time\n",
    "\n",
    "start_time = time.time()\n",
    "\n",
    "import pandas as pd\n",
    "import numpy as np\n",
    "\n",
    "import warnings\n",
    "warnings.filterwarnings('ignore')\n",
    "\n",
    "import seaborn as sns\n",
    "import matplotlib.pyplot as plt\n",
    "%matplotlib inline"
   ]
  },
  {
   "cell_type": "markdown",
   "metadata": {},
   "source": [
    "## <a id='dataset'></a>2b. About Dataset"
   ]
  },
  {
   "cell_type": "code",
   "execution_count": 2,
   "metadata": {},
   "outputs": [
    {
     "data": {
      "text/html": [
       "<div>\n",
       "<style scoped>\n",
       "    .dataframe tbody tr th:only-of-type {\n",
       "        vertical-align: middle;\n",
       "    }\n",
       "\n",
       "    .dataframe tbody tr th {\n",
       "        vertical-align: top;\n",
       "    }\n",
       "\n",
       "    .dataframe thead th {\n",
       "        text-align: right;\n",
       "    }\n",
       "</style>\n",
       "<table border=\"1\" class=\"dataframe\">\n",
       "  <thead>\n",
       "    <tr style=\"text-align: right;\">\n",
       "      <th></th>\n",
       "      <th>Age</th>\n",
       "      <th>Sex</th>\n",
       "      <th>Job</th>\n",
       "      <th>Housing</th>\n",
       "      <th>Saving accounts</th>\n",
       "      <th>Checking account</th>\n",
       "      <th>Credit amount</th>\n",
       "      <th>Duration</th>\n",
       "      <th>Purpose</th>\n",
       "      <th>Risk</th>\n",
       "    </tr>\n",
       "  </thead>\n",
       "  <tbody>\n",
       "    <tr>\n",
       "      <th>0</th>\n",
       "      <td>67</td>\n",
       "      <td>male</td>\n",
       "      <td>2</td>\n",
       "      <td>own</td>\n",
       "      <td>NaN</td>\n",
       "      <td>little</td>\n",
       "      <td>1169</td>\n",
       "      <td>6</td>\n",
       "      <td>radio/TV</td>\n",
       "      <td>good</td>\n",
       "    </tr>\n",
       "    <tr>\n",
       "      <th>1</th>\n",
       "      <td>22</td>\n",
       "      <td>female</td>\n",
       "      <td>2</td>\n",
       "      <td>own</td>\n",
       "      <td>little</td>\n",
       "      <td>moderate</td>\n",
       "      <td>5951</td>\n",
       "      <td>48</td>\n",
       "      <td>radio/TV</td>\n",
       "      <td>bad</td>\n",
       "    </tr>\n",
       "    <tr>\n",
       "      <th>2</th>\n",
       "      <td>49</td>\n",
       "      <td>male</td>\n",
       "      <td>1</td>\n",
       "      <td>own</td>\n",
       "      <td>little</td>\n",
       "      <td>NaN</td>\n",
       "      <td>2096</td>\n",
       "      <td>12</td>\n",
       "      <td>education</td>\n",
       "      <td>good</td>\n",
       "    </tr>\n",
       "    <tr>\n",
       "      <th>3</th>\n",
       "      <td>45</td>\n",
       "      <td>male</td>\n",
       "      <td>2</td>\n",
       "      <td>free</td>\n",
       "      <td>little</td>\n",
       "      <td>little</td>\n",
       "      <td>7882</td>\n",
       "      <td>42</td>\n",
       "      <td>furniture/equipment</td>\n",
       "      <td>good</td>\n",
       "    </tr>\n",
       "    <tr>\n",
       "      <th>4</th>\n",
       "      <td>53</td>\n",
       "      <td>male</td>\n",
       "      <td>2</td>\n",
       "      <td>free</td>\n",
       "      <td>little</td>\n",
       "      <td>little</td>\n",
       "      <td>4870</td>\n",
       "      <td>24</td>\n",
       "      <td>car</td>\n",
       "      <td>bad</td>\n",
       "    </tr>\n",
       "  </tbody>\n",
       "</table>\n",
       "</div>"
      ],
      "text/plain": [
       "   Age     Sex  Job Housing Saving accounts Checking account  Credit amount  \\\n",
       "0   67    male    2     own             NaN           little           1169   \n",
       "1   22  female    2     own          little         moderate           5951   \n",
       "2   49    male    1     own          little              NaN           2096   \n",
       "3   45    male    2    free          little           little           7882   \n",
       "4   53    male    2    free          little           little           4870   \n",
       "\n",
       "   Duration              Purpose  Risk  \n",
       "0         6             radio/TV  good  \n",
       "1        48             radio/TV   bad  \n",
       "2        12            education  good  \n",
       "3        42  furniture/equipment  good  \n",
       "4        24                  car   bad  "
      ]
     },
     "execution_count": 2,
     "metadata": {},
     "output_type": "execute_result"
    }
   ],
   "source": [
    "# Import Data\n",
    "\n",
    "df = pd.read_csv('german_credit_data_with_risk.csv', index_col=0)\n",
    "df.head()"
   ]
  },
  {
   "cell_type": "code",
   "execution_count": 3,
   "metadata": {},
   "outputs": [
    {
     "name": "stdout",
     "output_type": "stream",
     "text": [
      "<class 'pandas.core.frame.DataFrame'>\n",
      "Int64Index: 1000 entries, 0 to 999\n",
      "Data columns (total 10 columns):\n",
      " #   Column            Non-Null Count  Dtype \n",
      "---  ------            --------------  ----- \n",
      " 0   Age               1000 non-null   int64 \n",
      " 1   Sex               1000 non-null   object\n",
      " 2   Job               1000 non-null   int64 \n",
      " 3   Housing           1000 non-null   object\n",
      " 4   Saving accounts   817 non-null    object\n",
      " 5   Checking account  606 non-null    object\n",
      " 6   Credit amount     1000 non-null   int64 \n",
      " 7   Duration          1000 non-null   int64 \n",
      " 8   Purpose           1000 non-null   object\n",
      " 9   Risk              1000 non-null   object\n",
      "dtypes: int64(4), object(6)\n",
      "memory usage: 85.9+ KB\n"
     ]
    }
   ],
   "source": [
    "df.info()"
   ]
  },
  {
   "cell_type": "markdown",
   "metadata": {},
   "source": [
    "### Checking Missing Values"
   ]
  },
  {
   "cell_type": "code",
   "execution_count": 4,
   "metadata": {},
   "outputs": [
    {
     "data": {
      "text/plain": [
       "Age                   0\n",
       "Sex                   0\n",
       "Job                   0\n",
       "Housing               0\n",
       "Saving accounts     183\n",
       "Checking account    394\n",
       "Credit amount         0\n",
       "Duration              0\n",
       "Purpose               0\n",
       "Risk                  0\n",
       "dtype: int64"
      ]
     },
     "execution_count": 4,
     "metadata": {},
     "output_type": "execute_result"
    }
   ],
   "source": [
    "df.isnull().sum()"
   ]
  },
  {
   "cell_type": "markdown",
   "metadata": {},
   "source": [
    "### Statistical View of Dataset"
   ]
  },
  {
   "cell_type": "code",
   "execution_count": 5,
   "metadata": {},
   "outputs": [
    {
     "data": {
      "text/html": [
       "<div>\n",
       "<style scoped>\n",
       "    .dataframe tbody tr th:only-of-type {\n",
       "        vertical-align: middle;\n",
       "    }\n",
       "\n",
       "    .dataframe tbody tr th {\n",
       "        vertical-align: top;\n",
       "    }\n",
       "\n",
       "    .dataframe thead th {\n",
       "        text-align: right;\n",
       "    }\n",
       "</style>\n",
       "<table border=\"1\" class=\"dataframe\">\n",
       "  <thead>\n",
       "    <tr style=\"text-align: right;\">\n",
       "      <th></th>\n",
       "      <th>Age</th>\n",
       "      <th>Sex</th>\n",
       "      <th>Job</th>\n",
       "      <th>Housing</th>\n",
       "      <th>Saving accounts</th>\n",
       "      <th>Checking account</th>\n",
       "      <th>Credit amount</th>\n",
       "      <th>Duration</th>\n",
       "      <th>Purpose</th>\n",
       "      <th>Risk</th>\n",
       "    </tr>\n",
       "  </thead>\n",
       "  <tbody>\n",
       "    <tr>\n",
       "      <th>count</th>\n",
       "      <td>1000.000000</td>\n",
       "      <td>1000</td>\n",
       "      <td>1000.000000</td>\n",
       "      <td>1000</td>\n",
       "      <td>817</td>\n",
       "      <td>606</td>\n",
       "      <td>1000.000000</td>\n",
       "      <td>1000.000000</td>\n",
       "      <td>1000</td>\n",
       "      <td>1000</td>\n",
       "    </tr>\n",
       "    <tr>\n",
       "      <th>unique</th>\n",
       "      <td>NaN</td>\n",
       "      <td>2</td>\n",
       "      <td>NaN</td>\n",
       "      <td>3</td>\n",
       "      <td>4</td>\n",
       "      <td>3</td>\n",
       "      <td>NaN</td>\n",
       "      <td>NaN</td>\n",
       "      <td>8</td>\n",
       "      <td>2</td>\n",
       "    </tr>\n",
       "    <tr>\n",
       "      <th>top</th>\n",
       "      <td>NaN</td>\n",
       "      <td>male</td>\n",
       "      <td>NaN</td>\n",
       "      <td>own</td>\n",
       "      <td>little</td>\n",
       "      <td>little</td>\n",
       "      <td>NaN</td>\n",
       "      <td>NaN</td>\n",
       "      <td>car</td>\n",
       "      <td>good</td>\n",
       "    </tr>\n",
       "    <tr>\n",
       "      <th>freq</th>\n",
       "      <td>NaN</td>\n",
       "      <td>690</td>\n",
       "      <td>NaN</td>\n",
       "      <td>713</td>\n",
       "      <td>603</td>\n",
       "      <td>274</td>\n",
       "      <td>NaN</td>\n",
       "      <td>NaN</td>\n",
       "      <td>337</td>\n",
       "      <td>700</td>\n",
       "    </tr>\n",
       "    <tr>\n",
       "      <th>mean</th>\n",
       "      <td>35.546000</td>\n",
       "      <td>NaN</td>\n",
       "      <td>1.904000</td>\n",
       "      <td>NaN</td>\n",
       "      <td>NaN</td>\n",
       "      <td>NaN</td>\n",
       "      <td>3271.258000</td>\n",
       "      <td>20.903000</td>\n",
       "      <td>NaN</td>\n",
       "      <td>NaN</td>\n",
       "    </tr>\n",
       "    <tr>\n",
       "      <th>std</th>\n",
       "      <td>11.375469</td>\n",
       "      <td>NaN</td>\n",
       "      <td>0.653614</td>\n",
       "      <td>NaN</td>\n",
       "      <td>NaN</td>\n",
       "      <td>NaN</td>\n",
       "      <td>2822.736876</td>\n",
       "      <td>12.058814</td>\n",
       "      <td>NaN</td>\n",
       "      <td>NaN</td>\n",
       "    </tr>\n",
       "    <tr>\n",
       "      <th>min</th>\n",
       "      <td>19.000000</td>\n",
       "      <td>NaN</td>\n",
       "      <td>0.000000</td>\n",
       "      <td>NaN</td>\n",
       "      <td>NaN</td>\n",
       "      <td>NaN</td>\n",
       "      <td>250.000000</td>\n",
       "      <td>4.000000</td>\n",
       "      <td>NaN</td>\n",
       "      <td>NaN</td>\n",
       "    </tr>\n",
       "    <tr>\n",
       "      <th>25%</th>\n",
       "      <td>27.000000</td>\n",
       "      <td>NaN</td>\n",
       "      <td>2.000000</td>\n",
       "      <td>NaN</td>\n",
       "      <td>NaN</td>\n",
       "      <td>NaN</td>\n",
       "      <td>1365.500000</td>\n",
       "      <td>12.000000</td>\n",
       "      <td>NaN</td>\n",
       "      <td>NaN</td>\n",
       "    </tr>\n",
       "    <tr>\n",
       "      <th>50%</th>\n",
       "      <td>33.000000</td>\n",
       "      <td>NaN</td>\n",
       "      <td>2.000000</td>\n",
       "      <td>NaN</td>\n",
       "      <td>NaN</td>\n",
       "      <td>NaN</td>\n",
       "      <td>2319.500000</td>\n",
       "      <td>18.000000</td>\n",
       "      <td>NaN</td>\n",
       "      <td>NaN</td>\n",
       "    </tr>\n",
       "    <tr>\n",
       "      <th>75%</th>\n",
       "      <td>42.000000</td>\n",
       "      <td>NaN</td>\n",
       "      <td>2.000000</td>\n",
       "      <td>NaN</td>\n",
       "      <td>NaN</td>\n",
       "      <td>NaN</td>\n",
       "      <td>3972.250000</td>\n",
       "      <td>24.000000</td>\n",
       "      <td>NaN</td>\n",
       "      <td>NaN</td>\n",
       "    </tr>\n",
       "    <tr>\n",
       "      <th>max</th>\n",
       "      <td>75.000000</td>\n",
       "      <td>NaN</td>\n",
       "      <td>3.000000</td>\n",
       "      <td>NaN</td>\n",
       "      <td>NaN</td>\n",
       "      <td>NaN</td>\n",
       "      <td>18424.000000</td>\n",
       "      <td>72.000000</td>\n",
       "      <td>NaN</td>\n",
       "      <td>NaN</td>\n",
       "    </tr>\n",
       "  </tbody>\n",
       "</table>\n",
       "</div>"
      ],
      "text/plain": [
       "                Age   Sex          Job Housing Saving accounts  \\\n",
       "count   1000.000000  1000  1000.000000    1000             817   \n",
       "unique          NaN     2          NaN       3               4   \n",
       "top             NaN  male          NaN     own          little   \n",
       "freq            NaN   690          NaN     713             603   \n",
       "mean      35.546000   NaN     1.904000     NaN             NaN   \n",
       "std       11.375469   NaN     0.653614     NaN             NaN   \n",
       "min       19.000000   NaN     0.000000     NaN             NaN   \n",
       "25%       27.000000   NaN     2.000000     NaN             NaN   \n",
       "50%       33.000000   NaN     2.000000     NaN             NaN   \n",
       "75%       42.000000   NaN     2.000000     NaN             NaN   \n",
       "max       75.000000   NaN     3.000000     NaN             NaN   \n",
       "\n",
       "       Checking account  Credit amount     Duration Purpose  Risk  \n",
       "count               606    1000.000000  1000.000000    1000  1000  \n",
       "unique                3            NaN          NaN       8     2  \n",
       "top              little            NaN          NaN     car  good  \n",
       "freq                274            NaN          NaN     337   700  \n",
       "mean                NaN    3271.258000    20.903000     NaN   NaN  \n",
       "std                 NaN    2822.736876    12.058814     NaN   NaN  \n",
       "min                 NaN     250.000000     4.000000     NaN   NaN  \n",
       "25%                 NaN    1365.500000    12.000000     NaN   NaN  \n",
       "50%                 NaN    2319.500000    18.000000     NaN   NaN  \n",
       "75%                 NaN    3972.250000    24.000000     NaN   NaN  \n",
       "max                 NaN   18424.000000    72.000000     NaN   NaN  "
      ]
     },
     "execution_count": 5,
     "metadata": {},
     "output_type": "execute_result"
    }
   ],
   "source": [
    "df.describe(include='all')"
   ]
  },
  {
   "cell_type": "markdown",
   "metadata": {},
   "source": [
    "<font color='royalblue'>**Initial Observations of data:**</font>\n",
    "\n",
    "- Shape of the data is **1000 rows and 10 cols**\n",
    "- Data consists of **4 numerical and 6 categorical**\n",
    "- There are **missing data** for **Saving accounts and Checking account** features\n",
    "- **Risk** is the **target** variable\n",
    "- **Average age** of borrowers is **35.55**\n",
    "- There are **2 times more males than females**\n",
    "- **Mostly** borrowers do have **2 jobs**\n",
    "- **Mostly** borrowers do have **own housing**\n",
    "- On an **average**, the amount given for **credit is 3271.26**\n",
    "- **Average duration** of loan period is **20.90 months**\n",
    "- **Majority of the loans** taken for **car purpose**\n",
    "- **Good risk** are more than **2 times** than **bad risk**"
   ]
  },
  {
   "cell_type": "code",
   "execution_count": 6,
   "metadata": {},
   "outputs": [],
   "source": [
    "# Renaming few columns to get quick access while writing codes\n",
    "\n",
    "df.rename(columns={'Saving accounts': 'Saving_accounts',\n",
    "                  'Checking account':'Checking_account',\n",
    "                  'Credit amount':'Credit_amount'}, inplace=True)"
   ]
  },
  {
   "cell_type": "code",
   "execution_count": 7,
   "metadata": {
    "scrolled": false
   },
   "outputs": [
    {
     "data": {
      "text/plain": [
       "Index(['Age', 'Sex', 'Job', 'Housing', 'Saving_accounts', 'Checking_account',\n",
       "       'Credit_amount', 'Duration', 'Purpose', 'Risk'],\n",
       "      dtype='object')"
      ]
     },
     "execution_count": 7,
     "metadata": {},
     "output_type": "execute_result"
    }
   ],
   "source": [
    "# columns\n",
    "\n",
    "df.columns"
   ]
  },
  {
   "cell_type": "markdown",
   "metadata": {},
   "source": [
    "### Distribution of Target variable"
   ]
  },
  {
   "cell_type": "code",
   "execution_count": 8,
   "metadata": {},
   "outputs": [
    {
     "data": {
      "text/plain": [
       "Text(0.5, 1.0, 'Distribution of Target Variable')"
      ]
     },
     "execution_count": 8,
     "metadata": {},
     "output_type": "execute_result"
    },
    {
     "data": {
      "image/png": "[encoded data removed]",
      "text/plain": [
       "<Figure size 432x288 with 1 Axes>"
      ]
     },
     "metadata": {
      "needs_background": "light"
     },
     "output_type": "display_data"
    }
   ],
   "source": [
    "sns.countplot(df.Risk, palette=['forestgreen','tomato'])\n",
    "plt.title('Distribution of Target Variable', size=18)"
   ]
  },
  {
   "cell_type": "markdown",
   "metadata": {},
   "source": [
    "- **Above plot** indicates that **good risk is 2 times as compare to bad risk**"
   ]
  },
  {
   "cell_type": "markdown",
   "metadata": {},
   "source": [
    "\n",
    "# <a id='fe'></a>3. Feature Engineering"
   ]
  },
  {
   "cell_type": "markdown",
   "metadata": {},
   "source": [
    "## <a id='separate'></a>3a. Separating dataset based on Risk and Sex"
   ]
  },
  {
   "cell_type": "code",
   "execution_count": 9,
   "metadata": {},
   "outputs": [],
   "source": [
    "# Let's separate good risk data and bad risk data\n",
    "\n",
    "good_risk_data = df[df.Risk=='good']\n",
    "bad_risk_data = df[df.Risk=='bad']\n",
    "\n",
    "# let's separate credit amount for male, female and total\n",
    "\n",
    "male_credit = df[df.Sex=='male'].Credit_amount.values\n",
    "female_credit = df[df.Sex=='female'].Credit_amount.values\n",
    "total_credit = df.Credit_amount.values"
   ]
  },
  {
   "cell_type": "markdown",
   "metadata": {},
   "source": [
    "## <a id='age_group'></a>3b. Age Grouping"
   ]
  },
  {
   "cell_type": "markdown",
   "metadata": {},
   "source": [
    "In this section, we will create categorical groups based on age feature.\n",
    "\n",
    "- **youth** - Age ranging 19-29\n",
    "- **adult** - Age ranging 30-45\n",
    "- **mid** - Age ranging 46-60\n",
    "- **senior** - Age more than 60"
   ]
  },
  {
   "cell_type": "code",
   "execution_count": 10,
   "metadata": {},
   "outputs": [
    {
     "data": {
      "text/plain": [
       "count    1000.000000\n",
       "mean       35.546000\n",
       "std        11.375469\n",
       "min        19.000000\n",
       "25%        27.000000\n",
       "50%        33.000000\n",
       "75%        42.000000\n",
       "max        75.000000\n",
       "Name: Age, dtype: float64"
      ]
     },
     "execution_count": 10,
     "metadata": {},
     "output_type": "execute_result"
    }
   ],
   "source": [
    "df.Age.describe()"
   ]
  },
  {
   "cell_type": "code",
   "execution_count": 11,
   "metadata": {},
   "outputs": [],
   "source": [
    "# Grouping of Age\n",
    "\n",
    "df['age_group'] = pd.cut(df.Age, bins=[19,29,45,60,np.inf], labels=['youth','adult','mid','senior'], \n",
    "                         right=True, include_lowest=True)"
   ]
  },
  {
   "cell_type": "code",
   "execution_count": 12,
   "metadata": {
    "scrolled": true
   },
   "outputs": [
    {
     "data": {
      "text/plain": [
       "adult     443\n",
       "youth     371\n",
       "mid       141\n",
       "senior     45\n",
       "Name: age_group, dtype: int64"
      ]
     },
     "execution_count": 12,
     "metadata": {},
     "output_type": "execute_result"
    }
   ],
   "source": [
    "# Let's check the distribution\n",
    "\n",
    "df.age_group.value_counts()"
   ]
  },
  {
   "cell_type": "markdown",
   "metadata": {},
   "source": [
    "# <a id='eda'></a>4. Exploratory Data Analysis"
   ]
  },
  {
   "cell_type": "markdown",
   "metadata": {},
   "source": [
    "## <a id='SexAge'></a>4a. Exploring Sex vs. Age"
   ]
  },
  {
   "cell_type": "code",
   "execution_count": 13,
   "metadata": {
    "scrolled": false
   },
   "outputs": [
    {
     "data": {
      "text/plain": [
       "Text(0.5, 1.0, 'total age distribution')"
      ]
     },
     "execution_count": 13,
     "metadata": {},
     "output_type": "execute_result"
    },
    {
     "data": {
      "image/png": "[encoded data removed]",
      "text/plain": [
       "<Figure size 1152x216 with 3 Axes>"
      ]
     },
     "metadata": {
      "needs_background": "light"
     },
     "output_type": "display_data"
    }
   ],
   "source": [
    "fig, ax = plt.subplots(1,3,figsize=(16,3))\n",
    "\n",
    "ax[0].hist(df[df.Sex=='male'].Age,color='cornflowerblue', bins=25)\n",
    "ax[1].hist(df[df.Sex=='female'].Age, color='pink', bins=25)\n",
    "ax[2].hist(df.Age, color='gray', bins=25)\n",
    "\n",
    "ax[0].set_title('male age distribution')\n",
    "ax[1].set_title('female age distribution')\n",
    "ax[2].set_title('total age distribution')"
   ]
  },
  {
   "cell_type": "markdown",
   "metadata": {},
   "source": [
    "- Most of the **males applied** for credit loan **age ranging 20s-40s**\n",
    "- Most **females that applied** credit loan were **less than 30s**"
   ]
  },
  {
   "cell_type": "markdown",
   "metadata": {},
   "source": [
    "## <a id='SexJob'></a>4b. Exploring Sex vs. Job"
   ]
  },
  {
   "cell_type": "code",
   "execution_count": 14,
   "metadata": {},
   "outputs": [
    {
     "name": "stdout",
     "output_type": "stream",
     "text": [
      "Sex    female      male\n",
      "Job                    \n",
      "0    0.038710  0.014493\n",
      "1    0.206452  0.197101\n",
      "2    0.635484  0.627536\n",
      "3    0.119355  0.160870\n"
     ]
    },
    {
     "data": {
      "text/plain": [
       "Text(0.5, 1.0, 'How Job is distributed in Sex?')"
      ]
     },
     "execution_count": 14,
     "metadata": {},
     "output_type": "execute_result"
    },
    {
     "data": {
      "image/png": "[encoded data removed]",
      "text/plain": [
       "<Figure size 432x288 with 1 Axes>"
      ]
     },
     "metadata": {
      "needs_background": "light"
     },
     "output_type": "display_data"
    }
   ],
   "source": [
    "sex_vs_job = pd.crosstab(df.Job, df.Sex, normalize='columns')\n",
    "print(sex_vs_job)\n",
    "\n",
    "sex_vs_job.plot(kind='barh', stacked=True, color=['pink','cornflowerblue'])\n",
    "plt.title('How Job is distributed in Sex?', size=18)"
   ]
  },
  {
   "cell_type": "markdown",
   "metadata": {},
   "source": [
    "- **Females with no job** are more than **2.5 times as compare to males**\n",
    "- **males with 3 jobs** are almost **1.3 times more than females**\n",
    "- **most of borrowers do have 2 jobs**"
   ]
  },
  {
   "cell_type": "markdown",
   "metadata": {},
   "source": [
    "## <a id='SexPurpose'></a>4c. Exploring Sex vs. Purpose"
   ]
  },
  {
   "cell_type": "code",
   "execution_count": 15,
   "metadata": {},
   "outputs": [
    {
     "name": "stdout",
     "output_type": "stream",
     "text": [
      "Sex                    female      male\n",
      "Purpose                                \n",
      "business             0.061290  0.113043\n",
      "car                  0.303226  0.352174\n",
      "domestic appliances  0.019355  0.008696\n",
      "education            0.077419  0.050725\n",
      "furniture/equipment  0.238710  0.155072\n",
      "radio/TV             0.274194  0.282609\n",
      "repairs              0.016129  0.024638\n",
      "vacation/others      0.009677  0.013043\n"
     ]
    },
    {
     "data": {
      "text/plain": [
       "Text(0.5, 1.0, 'Purpose Distribution among Sex')"
      ]
     },
     "execution_count": 15,
     "metadata": {},
     "output_type": "execute_result"
    },
    {
     "data": {
      "image/png": "[encoded data removed]",
      "text/plain": [
       "<Figure size 432x288 with 1 Axes>"
      ]
     },
     "metadata": {
      "needs_background": "light"
     },
     "output_type": "display_data"
    }
   ],
   "source": [
    "sex_vs_purpose = pd.crosstab(df.Purpose, df.Sex, normalize='columns')\n",
    "print(sex_vs_purpose)\n",
    "\n",
    "sex_vs_purpose.plot(kind='barh', stacked=True, color=['pink','cornflowerblue'])\n",
    "plt.title('Purpose Distribution among Sex', size=18)"
   ]
  },
  {
   "cell_type": "markdown",
   "metadata": {},
   "source": [
    "- **Male borrowing** for **business loans** are approx. **2 times** as compare to **female**\n",
    "- **female borrowing** for **furniture/equimen**t is **1.5 times** more than **male**\n",
    "- **No impact of Sex** in borrowing for Car, domestic appliances, education, radio/tv, vacation/others"
   ]
  },
  {
   "cell_type": "markdown",
   "metadata": {},
   "source": [
    "## <a id='SexHousing'></a>4d. Exploring Sex vs. Housing"
   ]
  },
  {
   "cell_type": "code",
   "execution_count": 16,
   "metadata": {},
   "outputs": [
    {
     "data": {
      "text/html": [
       "<div>\n",
       "<style scoped>\n",
       "    .dataframe tbody tr th:only-of-type {\n",
       "        vertical-align: middle;\n",
       "    }\n",
       "\n",
       "    .dataframe tbody tr th {\n",
       "        vertical-align: top;\n",
       "    }\n",
       "\n",
       "    .dataframe thead th {\n",
       "        text-align: right;\n",
       "    }\n",
       "</style>\n",
       "<table border=\"1\" class=\"dataframe\">\n",
       "  <thead>\n",
       "    <tr style=\"text-align: right;\">\n",
       "      <th>Sex</th>\n",
       "      <th>female</th>\n",
       "      <th>male</th>\n",
       "    </tr>\n",
       "    <tr>\n",
       "      <th>Housing</th>\n",
       "      <th></th>\n",
       "      <th></th>\n",
       "    </tr>\n",
       "  </thead>\n",
       "  <tbody>\n",
       "    <tr>\n",
       "      <th>free</th>\n",
       "      <td>0.061290</td>\n",
       "      <td>0.128986</td>\n",
       "    </tr>\n",
       "    <tr>\n",
       "      <th>own</th>\n",
       "      <td>0.632258</td>\n",
       "      <td>0.749275</td>\n",
       "    </tr>\n",
       "    <tr>\n",
       "      <th>rent</th>\n",
       "      <td>0.306452</td>\n",
       "      <td>0.121739</td>\n",
       "    </tr>\n",
       "  </tbody>\n",
       "</table>\n",
       "</div>"
      ],
      "text/plain": [
       "Sex        female      male\n",
       "Housing                    \n",
       "free     0.061290  0.128986\n",
       "own      0.632258  0.749275\n",
       "rent     0.306452  0.121739"
      ]
     },
     "execution_count": 16,
     "metadata": {},
     "output_type": "execute_result"
    }
   ],
   "source": [
    "pd.crosstab(df.Housing, df.Sex, normalize='columns')"
   ]
  },
  {
   "cell_type": "markdown",
   "metadata": {},
   "source": [
    "- **males with free housing borrows twice than females**\n",
    "- **females with rent housing borrows 2.5 times more than males**"
   ]
  },
  {
   "cell_type": "markdown",
   "metadata": {},
   "source": [
    "## <a id='SexRisk'></a>4e. Exploring the relationship b/w Sex and Risk"
   ]
  },
  {
   "cell_type": "code",
   "execution_count": 17,
   "metadata": {},
   "outputs": [
    {
     "data": {
      "text/html": [
       "<div>\n",
       "<style scoped>\n",
       "    .dataframe tbody tr th:only-of-type {\n",
       "        vertical-align: middle;\n",
       "    }\n",
       "\n",
       "    .dataframe tbody tr th {\n",
       "        vertical-align: top;\n",
       "    }\n",
       "\n",
       "    .dataframe thead th {\n",
       "        text-align: right;\n",
       "    }\n",
       "</style>\n",
       "<table border=\"1\" class=\"dataframe\">\n",
       "  <thead>\n",
       "    <tr style=\"text-align: right;\">\n",
       "      <th>Sex</th>\n",
       "      <th>female</th>\n",
       "      <th>male</th>\n",
       "    </tr>\n",
       "    <tr>\n",
       "      <th>Risk</th>\n",
       "      <th></th>\n",
       "      <th></th>\n",
       "    </tr>\n",
       "  </thead>\n",
       "  <tbody>\n",
       "    <tr>\n",
       "      <th>bad</th>\n",
       "      <td>0.351613</td>\n",
       "      <td>0.276812</td>\n",
       "    </tr>\n",
       "    <tr>\n",
       "      <th>good</th>\n",
       "      <td>0.648387</td>\n",
       "      <td>0.723188</td>\n",
       "    </tr>\n",
       "  </tbody>\n",
       "</table>\n",
       "</div>"
      ],
      "text/plain": [
       "Sex     female      male\n",
       "Risk                    \n",
       "bad   0.351613  0.276812\n",
       "good  0.648387  0.723188"
      ]
     },
     "execution_count": 17,
     "metadata": {},
     "output_type": "execute_result"
    }
   ],
   "source": [
    "pd.crosstab(df.Risk, df.Sex, normalize='columns')"
   ]
  },
  {
   "cell_type": "markdown",
   "metadata": {},
   "source": [
    "- **Credit risk is irrespective of Sex**"
   ]
  },
  {
   "cell_type": "markdown",
   "metadata": {},
   "source": [
    "## <a id='credit'></a>4f. Credit Distribution"
   ]
  },
  {
   "cell_type": "markdown",
   "metadata": {},
   "source": [
    "### Credit distribution by Sex"
   ]
  },
  {
   "cell_type": "code",
   "execution_count": 18,
   "metadata": {},
   "outputs": [
    {
     "data": {
      "text/plain": [
       "Text(0.5, 1.0, 'Distribution Credit Amount for Good vs. Bad risk')"
      ]
     },
     "execution_count": 18,
     "metadata": {},
     "output_type": "execute_result"
    },
    {
     "data": {
      "image/png": "[encoded data removed]",
      "text/plain": [
       "<Figure size 432x288 with 1 Axes>"
      ]
     },
     "metadata": {
      "needs_background": "light"
     },
     "output_type": "display_data"
    }
   ],
   "source": [
    "sns.distplot(np.log(good_risk_data.Credit_amount), color='g',rug=True)\n",
    "sns.distplot(np.log(bad_risk_data.Credit_amount),color='r',rug=True)\n",
    "plt.title('Distribution Credit Amount for Good vs. Bad risk' ,size=18)"
   ]
  },
  {
   "cell_type": "code",
   "execution_count": 19,
   "metadata": {},
   "outputs": [
    {
     "data": {
      "text/plain": [
       "Text(0.5, 1.0, 'total credit distribution')"
      ]
     },
     "execution_count": 19,
     "metadata": {},
     "output_type": "execute_result"
    },
    {
     "data": {
      "image/png": "[encoded data removed]",
      "text/plain": [
       "<Figure size 1152x216 with 3 Axes>"
      ]
     },
     "metadata": {
      "needs_background": "light"
     },
     "output_type": "display_data"
    }
   ],
   "source": [
    "fig, ax = plt.subplots(1,3, figsize=(16,3))\n",
    "\n",
    "sns.distplot(male_credit, ax=ax[0], color='cornflowerblue')\n",
    "ax[0].set_title('male credit distribution', size=15)\n",
    "\n",
    "sns.distplot(female_credit, ax=ax[1], color='tomato')\n",
    "ax[1].set_title('female credit distribution', size=15)\n",
    "\n",
    "sns.distplot(total_credit, ax=ax[2], color='dimgray')\n",
    "ax[2].set_title('total credit distribution', size=15)"
   ]
  },
  {
   "cell_type": "markdown",
   "metadata": {},
   "source": [
    "### Credit distribution by Purpose"
   ]
  },
  {
   "cell_type": "code",
   "execution_count": 20,
   "metadata": {
    "scrolled": true
   },
   "outputs": [
    {
     "data": {
      "text/plain": [
       "Text(0.5, 1.0, 'Credit Distribution by Purpose')"
      ]
     },
     "execution_count": 20,
     "metadata": {},
     "output_type": "execute_result"
    },
    {
     "data": {
      "image/png": "[encoded data removed]",
      "text/plain": [
       "<Figure size 864x288 with 1 Axes>"
      ]
     },
     "metadata": {
      "needs_background": "light"
     },
     "output_type": "display_data"
    }
   ],
   "source": [
    "plt.figure(figsize=(12,4))\n",
    "sns.boxplot(df.Purpose, df.Credit_amount)\n",
    "plt.title('Credit Distribution by Purpose', size=18)"
   ]
  },
  {
   "cell_type": "code",
   "execution_count": 21,
   "metadata": {
    "scrolled": true
   },
   "outputs": [
    {
     "data": {
      "text/plain": [
       "Purpose\n",
       "vacation/others        8209.333333\n",
       "business               4158.041237\n",
       "car                    3768.192878\n",
       "furniture/equipment    3066.988950\n",
       "education              2879.203390\n",
       "repairs                2728.090909\n",
       "radio/TV               2487.653571\n",
       "domestic appliances    1498.000000\n",
       "Name: Credit_amount, dtype: float64"
      ]
     },
     "execution_count": 21,
     "metadata": {},
     "output_type": "execute_result"
    }
   ],
   "source": [
    "# Average loan based on Purpose\n",
    "\n",
    "df.groupby('Purpose').Credit_amount.mean().sort_values(ascending=False)"
   ]
  },
  {
   "cell_type": "markdown",
   "metadata": {},
   "source": [
    "### Credit Amount distribution based on Age, Sex, Housing separating by Risk"
   ]
  },
  {
   "cell_type": "code",
   "execution_count": 22,
   "metadata": {},
   "outputs": [
    {
     "data": {
      "image/png": "[encoded data removed]",
      "text/plain": [
       "<Figure size 720x1080 with 6 Axes>"
      ]
     },
     "metadata": {
      "needs_background": "light"
     },
     "output_type": "display_data"
    }
   ],
   "source": [
    "facet = sns.FacetGrid(df, 'Housing', 'Sex', hue='Risk', size=5, margin_titles=True, palette=['forestgreen', 'tomato'])\n",
    "facet = facet.map(plt.scatter, 'Age','Credit_amount')\n",
    "facet.fig.suptitle('Loan Riskiness by Age, Sex and Housing', size=18)\n",
    "plt.subplots_adjust(top=.93)"
   ]
  },
  {
   "cell_type": "markdown",
   "metadata": {},
   "source": [
    "**Some observations -**\n",
    "\n",
    "- More **youth female customers with rent housing** applied for **more credit loans** and most of them **turned to bad risk**\n",
    "- **Mostly loans** applied by the customers who **own the housing**"
   ]
  },
  {
   "cell_type": "markdown",
   "metadata": {},
   "source": [
    "### Credit Amount distribution based on Loan Duration separating by Risk"
   ]
  },
  {
   "cell_type": "code",
   "execution_count": 23,
   "metadata": {
    "scrolled": false
   },
   "outputs": [
    {
     "data": {
      "text/plain": [
       "Text(0.5, 1.0, 'Distribution of Credit Amount by Loan Duration along with Risk')"
      ]
     },
     "execution_count": 23,
     "metadata": {},
     "output_type": "execute_result"
    },
    {
     "data": {
      "image/png": "[encoded data removed]",
      "text/plain": [
       "<Figure size 576x432 with 1 Axes>"
      ]
     },
     "metadata": {
      "needs_background": "light"
     },
     "output_type": "display_data"
    }
   ],
   "source": [
    "plt.figure(figsize=(8,6))\n",
    "sns.scatterplot(df.Duration, df.Credit_amount, hue=df.Risk, palette=['forestgreen', 'tomato'], edgecolor='w')\n",
    "plt.title('Distribution of Credit Amount by Loan Duration along with Risk',size=18)"
   ]
  },
  {
   "cell_type": "markdown",
   "metadata": {},
   "source": [
    "- **More the credit amount, higher the chances of borrowing turning bad**\n",
    "- Similarly, **higher the duration, higher the probability of loan will turn out to be bad**"
   ]
  },
  {
   "cell_type": "markdown",
   "metadata": {},
   "source": [
    "### Loan Amount distribution based by age"
   ]
  },
  {
   "cell_type": "code",
   "execution_count": 24,
   "metadata": {
    "scrolled": false
   },
   "outputs": [
    {
     "data": {
      "text/plain": [
       "Text(0.5, 1.0, 'Distribution of Credit Amount by Age along with Risk')"
      ]
     },
     "execution_count": 24,
     "metadata": {},
     "output_type": "execute_result"
    },
    {
     "data": {
      "image/png": "[encoded data removed]",
      "text/plain": [
       "<Figure size 576x432 with 1 Axes>"
      ]
     },
     "metadata": {
      "needs_background": "light"
     },
     "output_type": "display_data"
    }
   ],
   "source": [
    "plt.figure(figsize=(8,6))\n",
    "sns.scatterplot(df.Age, df.Credit_amount, hue=df.Risk, palette=['forestgreen', 'tomato'], edgecolor='w')\n",
    "plt.title('Distribution of Credit Amount by Age along with Risk',size=18)"
   ]
  },
  {
   "cell_type": "markdown",
   "metadata": {},
   "source": [
    "- **probability of turning a loan bad is very low when borrowed by adults**\n",
    "- **most of the loans applied by youth**\n",
    "- **majority of the loans turned bad when credit amount > 8k for youth borrowings**"
   ]
  },
  {
   "cell_type": "markdown",
   "metadata": {},
   "source": [
    "## <a id='PurposeDist'></a>4g. Let's have some statistics over Purpose Distribution"
   ]
  },
  {
   "cell_type": "code",
   "execution_count": 25,
   "metadata": {},
   "outputs": [
    {
     "data": {
      "text/html": [
       "<div>\n",
       "<style scoped>\n",
       "    .dataframe tbody tr th:only-of-type {\n",
       "        vertical-align: middle;\n",
       "    }\n",
       "\n",
       "    .dataframe tbody tr th {\n",
       "        vertical-align: top;\n",
       "    }\n",
       "\n",
       "    .dataframe thead th {\n",
       "        text-align: right;\n",
       "    }\n",
       "</style>\n",
       "<table border=\"1\" class=\"dataframe\">\n",
       "  <thead>\n",
       "    <tr style=\"text-align: right;\">\n",
       "      <th></th>\n",
       "      <th>count</th>\n",
       "      <th>mean</th>\n",
       "      <th>std</th>\n",
       "      <th>min</th>\n",
       "      <th>25%</th>\n",
       "      <th>50%</th>\n",
       "      <th>75%</th>\n",
       "      <th>max</th>\n",
       "    </tr>\n",
       "    <tr>\n",
       "      <th>Purpose</th>\n",
       "      <th></th>\n",
       "      <th></th>\n",
       "      <th></th>\n",
       "      <th></th>\n",
       "      <th></th>\n",
       "      <th></th>\n",
       "      <th></th>\n",
       "      <th></th>\n",
       "    </tr>\n",
       "  </thead>\n",
       "  <tbody>\n",
       "    <tr>\n",
       "      <th>car</th>\n",
       "      <td>337.0</td>\n",
       "      <td>3768.192878</td>\n",
       "      <td>3123.594488</td>\n",
       "      <td>250.0</td>\n",
       "      <td>1364.00</td>\n",
       "      <td>2679.0</td>\n",
       "      <td>5248.00</td>\n",
       "      <td>14896.0</td>\n",
       "    </tr>\n",
       "    <tr>\n",
       "      <th>radio/TV</th>\n",
       "      <td>280.0</td>\n",
       "      <td>2487.653571</td>\n",
       "      <td>2073.693150</td>\n",
       "      <td>338.0</td>\n",
       "      <td>1261.00</td>\n",
       "      <td>1890.0</td>\n",
       "      <td>3038.00</td>\n",
       "      <td>15653.0</td>\n",
       "    </tr>\n",
       "    <tr>\n",
       "      <th>furniture/equipment</th>\n",
       "      <td>181.0</td>\n",
       "      <td>3066.988950</td>\n",
       "      <td>2034.146228</td>\n",
       "      <td>428.0</td>\n",
       "      <td>1747.00</td>\n",
       "      <td>2578.0</td>\n",
       "      <td>3643.00</td>\n",
       "      <td>14179.0</td>\n",
       "    </tr>\n",
       "    <tr>\n",
       "      <th>business</th>\n",
       "      <td>97.0</td>\n",
       "      <td>4158.041237</td>\n",
       "      <td>3231.484456</td>\n",
       "      <td>609.0</td>\n",
       "      <td>1908.00</td>\n",
       "      <td>3161.0</td>\n",
       "      <td>5293.00</td>\n",
       "      <td>15945.0</td>\n",
       "    </tr>\n",
       "    <tr>\n",
       "      <th>education</th>\n",
       "      <td>59.0</td>\n",
       "      <td>2879.203390</td>\n",
       "      <td>2883.916266</td>\n",
       "      <td>339.0</td>\n",
       "      <td>936.50</td>\n",
       "      <td>1597.0</td>\n",
       "      <td>3638.00</td>\n",
       "      <td>12612.0</td>\n",
       "    </tr>\n",
       "    <tr>\n",
       "      <th>repairs</th>\n",
       "      <td>22.0</td>\n",
       "      <td>2728.090909</td>\n",
       "      <td>2627.490364</td>\n",
       "      <td>454.0</td>\n",
       "      <td>1214.50</td>\n",
       "      <td>1749.0</td>\n",
       "      <td>3203.25</td>\n",
       "      <td>11998.0</td>\n",
       "    </tr>\n",
       "    <tr>\n",
       "      <th>domestic appliances</th>\n",
       "      <td>12.0</td>\n",
       "      <td>1498.000000</td>\n",
       "      <td>1012.510741</td>\n",
       "      <td>343.0</td>\n",
       "      <td>1131.25</td>\n",
       "      <td>1249.0</td>\n",
       "      <td>1359.50</td>\n",
       "      <td>3990.0</td>\n",
       "    </tr>\n",
       "    <tr>\n",
       "      <th>vacation/others</th>\n",
       "      <td>12.0</td>\n",
       "      <td>8209.333333</td>\n",
       "      <td>6112.703156</td>\n",
       "      <td>1164.0</td>\n",
       "      <td>2410.50</td>\n",
       "      <td>6948.0</td>\n",
       "      <td>12649.00</td>\n",
       "      <td>18424.0</td>\n",
       "    </tr>\n",
       "  </tbody>\n",
       "</table>\n",
       "</div>"
      ],
      "text/plain": [
       "                     count         mean          std     min      25%     50%  \\\n",
       "Purpose                                                                         \n",
       "car                  337.0  3768.192878  3123.594488   250.0  1364.00  2679.0   \n",
       "radio/TV             280.0  2487.653571  2073.693150   338.0  1261.00  1890.0   \n",
       "furniture/equipment  181.0  3066.988950  2034.146228   428.0  1747.00  2578.0   \n",
       "business              97.0  4158.041237  3231.484456   609.0  1908.00  3161.0   \n",
       "education             59.0  2879.203390  2883.916266   339.0   936.50  1597.0   \n",
       "repairs               22.0  2728.090909  2627.490364   454.0  1214.50  1749.0   \n",
       "domestic appliances   12.0  1498.000000  1012.510741   343.0  1131.25  1249.0   \n",
       "vacation/others       12.0  8209.333333  6112.703156  1164.0  2410.50  6948.0   \n",
       "\n",
       "                          75%      max  \n",
       "Purpose                                 \n",
       "car                   5248.00  14896.0  \n",
       "radio/TV              3038.00  15653.0  \n",
       "furniture/equipment   3643.00  14179.0  \n",
       "business              5293.00  15945.0  \n",
       "education             3638.00  12612.0  \n",
       "repairs               3203.25  11998.0  \n",
       "domestic appliances   1359.50   3990.0  \n",
       "vacation/others      12649.00  18424.0  "
      ]
     },
     "execution_count": 25,
     "metadata": {},
     "output_type": "execute_result"
    }
   ],
   "source": [
    "df.groupby('Purpose').Credit_amount.describe().sort_values('count', ascending=False)"
   ]
  },
  {
   "cell_type": "markdown",
   "metadata": {},
   "source": [
    "- **Mostly** credit was given for **car** purpose and **least** for **vacation/others**\n",
    "- **Highest Average** credit was given for **vacation/others** followed by car and lowest for domestic appliances\n",
    "- Credit amount **hugely spanning for vacation/others purpose**\n",
    "- **Highest credit** was for **vacation/others** and **lowest credit** for **domestic appliances**"
   ]
  },
  {
   "cell_type": "markdown",
   "metadata": {
    "scrolled": true
   },
   "source": [
    "\n",
    "## <a id='age_groups'></a>4h. Exploring any behavior based on age groups\n",
    "\n",
    "Now let's understand the customers' borrowing on various age groups and dive deeper in our analysis to evaluate loan riskiness and try to guage if there is any pattern influenced by age groups"
   ]
  },
  {
   "cell_type": "code",
   "execution_count": 26,
   "metadata": {},
   "outputs": [
    {
     "data": {
      "text/html": [
       "<div>\n",
       "<style scoped>\n",
       "    .dataframe tbody tr th:only-of-type {\n",
       "        vertical-align: middle;\n",
       "    }\n",
       "\n",
       "    .dataframe tbody tr th {\n",
       "        vertical-align: top;\n",
       "    }\n",
       "\n",
       "    .dataframe thead th {\n",
       "        text-align: right;\n",
       "    }\n",
       "</style>\n",
       "<table border=\"1\" class=\"dataframe\">\n",
       "  <thead>\n",
       "    <tr style=\"text-align: right;\">\n",
       "      <th></th>\n",
       "      <th>count</th>\n",
       "      <th>mean</th>\n",
       "      <th>std</th>\n",
       "      <th>min</th>\n",
       "      <th>25%</th>\n",
       "      <th>50%</th>\n",
       "      <th>75%</th>\n",
       "      <th>max</th>\n",
       "    </tr>\n",
       "    <tr>\n",
       "      <th>age_group</th>\n",
       "      <th></th>\n",
       "      <th></th>\n",
       "      <th></th>\n",
       "      <th></th>\n",
       "      <th></th>\n",
       "      <th></th>\n",
       "      <th></th>\n",
       "      <th></th>\n",
       "    </tr>\n",
       "  </thead>\n",
       "  <tbody>\n",
       "    <tr>\n",
       "      <th>youth</th>\n",
       "      <td>371.0</td>\n",
       "      <td>3088.989218</td>\n",
       "      <td>2694.779719</td>\n",
       "      <td>276.0</td>\n",
       "      <td>1292.0</td>\n",
       "      <td>2214.0</td>\n",
       "      <td>3753.5</td>\n",
       "      <td>15672.0</td>\n",
       "    </tr>\n",
       "    <tr>\n",
       "      <th>adult</th>\n",
       "      <td>443.0</td>\n",
       "      <td>3465.577878</td>\n",
       "      <td>2834.645860</td>\n",
       "      <td>250.0</td>\n",
       "      <td>1503.0</td>\n",
       "      <td>2503.0</td>\n",
       "      <td>4338.5</td>\n",
       "      <td>18424.0</td>\n",
       "    </tr>\n",
       "    <tr>\n",
       "      <th>mid</th>\n",
       "      <td>141.0</td>\n",
       "      <td>3187.936170</td>\n",
       "      <td>3006.196081</td>\n",
       "      <td>338.0</td>\n",
       "      <td>1240.0</td>\n",
       "      <td>2134.0</td>\n",
       "      <td>3777.0</td>\n",
       "      <td>15945.0</td>\n",
       "    </tr>\n",
       "    <tr>\n",
       "      <th>senior</th>\n",
       "      <td>45.0</td>\n",
       "      <td>3122.066667</td>\n",
       "      <td>3108.587778</td>\n",
       "      <td>571.0</td>\n",
       "      <td>1255.0</td>\n",
       "      <td>1908.0</td>\n",
       "      <td>3757.0</td>\n",
       "      <td>14896.0</td>\n",
       "    </tr>\n",
       "  </tbody>\n",
       "</table>\n",
       "</div>"
      ],
      "text/plain": [
       "           count         mean          std    min     25%     50%     75%  \\\n",
       "age_group                                                                   \n",
       "youth      371.0  3088.989218  2694.779719  276.0  1292.0  2214.0  3753.5   \n",
       "adult      443.0  3465.577878  2834.645860  250.0  1503.0  2503.0  4338.5   \n",
       "mid        141.0  3187.936170  3006.196081  338.0  1240.0  2134.0  3777.0   \n",
       "senior      45.0  3122.066667  3108.587778  571.0  1255.0  1908.0  3757.0   \n",
       "\n",
       "               max  \n",
       "age_group           \n",
       "youth      15672.0  \n",
       "adult      18424.0  \n",
       "mid        15945.0  \n",
       "senior     14896.0  "
      ]
     },
     "execution_count": 26,
     "metadata": {},
     "output_type": "execute_result"
    }
   ],
   "source": [
    "df.groupby('age_group').Credit_amount.describe()"
   ]
  },
  {
   "cell_type": "markdown",
   "metadata": {},
   "source": [
    "### Credit Amount Distribution with Risk factor pertaining to age_groups"
   ]
  },
  {
   "cell_type": "code",
   "execution_count": 27,
   "metadata": {
    "scrolled": false
   },
   "outputs": [
    {
     "name": "stdout",
     "output_type": "stream",
     "text": [
      "Risk               bad         good\n",
      "age_group                          \n",
      "youth      3788.759124  2679.294872\n",
      "adult      3705.879310  3380.333333\n",
      "mid        5064.000000  2520.490385\n",
      "senior     4512.800000  2724.714286\n"
     ]
    },
    {
     "data": {
      "text/plain": [
       "Text(0.5, 1.0, 'Credit Amount distibution amongst age groups along with Risk factor')"
      ]
     },
     "execution_count": 27,
     "metadata": {},
     "output_type": "execute_result"
    },
    {
     "data": {
      "image/png": "[encoded data removed]",
      "text/plain": [
       "<Figure size 432x288 with 1 Axes>"
      ]
     },
     "metadata": {
      "needs_background": "light"
     },
     "output_type": "display_data"
    }
   ],
   "source": [
    "age_risk_mean = pd.crosstab(df.age_group, df.Risk, df.Credit_amount, aggfunc='mean')\n",
    "print(age_risk_mean)\n",
    "\n",
    "sns.barplot(df.age_group, df.Credit_amount, hue=df.Risk, palette=['forestgreen','tomato'])\n",
    "plt.title('Credit Amount distibution amongst age groups along with Risk factor',size=15)"
   ]
  },
  {
   "cell_type": "markdown",
   "metadata": {},
   "source": [
    "### Loan dispersed to age_groups along with their riskiness"
   ]
  },
  {
   "cell_type": "code",
   "execution_count": 28,
   "metadata": {
    "scrolled": false
   },
   "outputs": [
    {
     "name": "stdout",
     "output_type": "stream",
     "text": [
      "Risk           bad     good      All\n",
      "age_group                           \n",
      "youth       519060   626955  1146015\n",
      "adult       429882  1105369  1535251\n",
      "mid         187368   262131   449499\n",
      "senior       45128    95365   140493\n",
      "All        1181438  2089820  3271258 \n",
      "\n",
      "Risk            bad      good\n",
      "age_group                    \n",
      "youth      0.452926  0.547074\n",
      "adult      0.280008  0.719992\n",
      "mid        0.416837  0.583163\n",
      "senior     0.321212  0.678788 \n",
      "\n",
      "Risk            bad      good\n",
      "age_group                    \n",
      "youth      0.439346  0.300004\n",
      "adult      0.363863  0.528930\n",
      "mid        0.158593  0.125432\n",
      "senior     0.038198  0.045633\n"
     ]
    },
    {
     "data": {
      "text/plain": [
       "Text(0.5, 1.0, 'How much loan given to age groups based on riskiness?')"
      ]
     },
     "execution_count": 28,
     "metadata": {},
     "output_type": "execute_result"
    },
    {
     "data": {
      "image/png": "[encoded data removed]",
      "text/plain": [
       "<Figure size 432x288 with 1 Axes>"
      ]
     },
     "metadata": {
      "needs_background": "light"
     },
     "output_type": "display_data"
    }
   ],
   "source": [
    "age_risk_sum = pd.crosstab(df.age_group, df.Risk, df.Credit_amount, aggfunc='sum', margins=True)\n",
    "print(age_risk_sum,'\\n')\n",
    "\n",
    "age_risk_percent = pd.crosstab(df.age_group, df.Risk, df.Credit_amount, aggfunc='sum', normalize='index')\n",
    "print(age_risk_percent,'\\n')\n",
    "\n",
    "print(pd.crosstab(df.age_group, df.Risk, df.Credit_amount, aggfunc='sum', normalize='columns'))\n",
    "\n",
    "pd.crosstab(df.age_group, df.Risk,df.Credit_amount, aggfunc='sum').plot(kind='bar', color=['tomato','forestgreen'])\n",
    "plt.title('How much loan given to age groups based on riskiness?',size=18)"
   ]
  },
  {
   "cell_type": "markdown",
   "metadata": {},
   "source": [
    "- Approx. **45% loan** taken by **youth** customers were considered to be **high risky loans**\n",
    "- Approx. **28% loan taken** by **adults** were considered as **high risk loans**\n",
    "- Approx. **41.7% loan taken** by **mid-aged** customers were considered to be **high risky loans**\n",
    "- Approx. **32% loan taken** by **senior** people were considered **high risk loans**\n",
    "---\n",
    "- **Adult** holds the **highest ratio in less risky loans** however senior holds reverse.\n",
    "- **Youth** holds the **highest ratio in high risky loans** however senior holds reverse.\n",
    "---\n",
    "<font color='blue'><u>***Note</u>:*** ***Matter of the fact is senior people are dependent on pensions and youth of early age may not have employment***"
   ]
  },
  {
   "cell_type": "markdown",
   "metadata": {},
   "source": [
    "## <a id='ca'></a>4i. Checking account"
   ]
  },
  {
   "cell_type": "code",
   "execution_count": 29,
   "metadata": {},
   "outputs": [
    {
     "data": {
      "text/plain": [
       "Text(0.5, 1.0, 'Checking Account distribution considering Risk factor')"
      ]
     },
     "execution_count": 29,
     "metadata": {},
     "output_type": "execute_result"
    },
    {
     "data": {
      "image/png": "[encoded data removed]",
      "text/plain": [
       "<Figure size 432x288 with 1 Axes>"
      ]
     },
     "metadata": {
      "needs_background": "light"
     },
     "output_type": "display_data"
    }
   ],
   "source": [
    "pd.crosstab(df.Checking_account, df.Risk, normalize='columns').plot(kind='bar', color=['tomato','forestgreen'])\n",
    "plt.title('Checking Account distribution considering Risk factor', size=18)"
   ]
  },
  {
   "cell_type": "markdown",
   "metadata": {},
   "source": [
    "- Customers related to **little wealth group** had a **higher probability of being bad risk loans** than other groups\n",
    "- **Higher the wealth, lower the probability of being bad risk loans**"
   ]
  },
  {
   "cell_type": "markdown",
   "metadata": {},
   "source": [
    "## <a id='PurposeRisk'></a>4j. Purpose with risk factor"
   ]
  },
  {
   "cell_type": "code",
   "execution_count": 30,
   "metadata": {},
   "outputs": [
    {
     "name": "stdout",
     "output_type": "stream",
     "text": [
      "Risk                      bad      good       All\n",
      "Purpose                                          \n",
      "business             0.058437  0.064858  0.123295\n",
      "car                  0.136806  0.251388  0.388193\n",
      "domestic appliances  0.001921  0.003574  0.005495\n",
      "education            0.022161  0.029768  0.051929\n",
      "furniture/equipment  0.064635  0.105062  0.169698\n",
      "radio/TV             0.052693  0.160235  0.212928\n",
      "repairs              0.006826  0.011521  0.018347\n",
      "vacation/others      0.017678  0.012436  0.030114\n",
      "All                  0.361157  0.638843  1.000000\n"
     ]
    },
    {
     "data": {
      "text/plain": [
       "Text(0.5, 1.0, 'Which Purpose carried high risk?')"
      ]
     },
     "execution_count": 30,
     "metadata": {},
     "output_type": "execute_result"
    },
    {
     "data": {
      "image/png": "[encoded data removed]",
      "text/plain": [
       "<Figure size 864x432 with 1 Axes>"
      ]
     },
     "metadata": {
      "needs_background": "light"
     },
     "output_type": "display_data"
    }
   ],
   "source": [
    "purpose_w_risk = pd.crosstab(df.Purpose, df.Risk, df.Credit_amount, aggfunc='sum', normalize=True, margins=True)\n",
    "\n",
    "print(purpose_w_risk)\n",
    "\n",
    "purpose_w_risk.plot(kind='bar', color=['tomato','forestgreen','gray'], figsize=(12,6))\n",
    "plt.title('Which Purpose carried high risk?',size=20)"
   ]
  },
  {
   "cell_type": "markdown",
   "metadata": {},
   "source": [
    "- **Majority of the loans** given for **car purpose** followed by radio/TV\n",
    "- **Most of the loans turn bad for vacation/others** followed by business purpose\n",
    "- **Car followed by radio/TV purposes were less risky** from operation perspective given it has the **widest gap between good and the bad risk**"
   ]
  },
  {
   "cell_type": "markdown",
   "metadata": {},
   "source": [
    "## <a id='sa'></a>4k. Exploring Saving Accounts"
   ]
  },
  {
   "cell_type": "code",
   "execution_count": 31,
   "metadata": {
    "scrolled": false
   },
   "outputs": [
    {
     "data": {
      "text/plain": [
       "Text(0.5, 1.0, 'Job distribution among Saving Accounts')"
      ]
     },
     "execution_count": 31,
     "metadata": {},
     "output_type": "execute_result"
    },
    {
     "data": {
      "image/png": "[encoded data removed]",
      "text/plain": [
       "<Figure size 1152x864 with 4 Axes>"
      ]
     },
     "metadata": {
      "needs_background": "light"
     },
     "output_type": "display_data"
    }
   ],
   "source": [
    "fig, ax = plt.subplots(2,2, figsize=(16,12))\n",
    "\n",
    "sns.countplot(df.Saving_accounts, hue=df.Risk, palette=['forestgreen','tomato'], ax=ax[0,0])\n",
    "ax[0,0].set_title('Saving accounts distritution', size=12)\n",
    "\n",
    "sns.boxplot(df.Saving_accounts, df.Credit_amount, hue=df.Risk, palette=['forestgreen','tomato'],ax=ax[0,1])\n",
    "ax[0,1].set_title('Credit Amount distribution among Saving Accounts', size=12)\n",
    "\n",
    "\n",
    "sns.boxplot(df.Saving_accounts, df.Age, hue=df.Risk, palette=['forestgreen','tomato'],ax=ax[1,0])\n",
    "ax[1,0].set_title('Age distribution among Saving Accounts', size=12)\n",
    "\n",
    "\n",
    "sns.violinplot(df.Saving_accounts, df.Job, hue=df.Risk, split=True, palette=['forestgreen','tomato'],ax=ax[1,1])\n",
    "ax[1,1].set_title('Job distribution among Saving Accounts', size=12)"
   ]
  },
  {
   "cell_type": "markdown",
   "metadata": {},
   "source": [
    "- **Majority of the customers applied for loan** who are having **little saving accounts** and **rich being the lowest**; that's perfectly makes sense!!\n",
    "- On average, **Rich customers has the lowest amongst all saving accounts.**\n",
    "- **little saving accounts customers are spanning all ages**\n",
    "- Loan given to **rich customers with 1 or less jobs** turned to be **good**\n",
    "- Loan given to **quite rich segment with 2 or more jobs** turned to be **good**"
   ]
  },
  {
   "cell_type": "markdown",
   "metadata": {},
   "source": [
    "## <a id='duration'></a>4l. Loan Duration distribution and density"
   ]
  },
  {
   "cell_type": "code",
   "execution_count": 32,
   "metadata": {},
   "outputs": [
    {
     "data": {
      "image/png": "[encoded data removed]",
      "text/plain": [
       "<Figure size 1152x1008 with 3 Axes>"
      ]
     },
     "metadata": {
      "needs_background": "light"
     },
     "output_type": "display_data"
    }
   ],
   "source": [
    "fig, ax = plt.subplots(3,1, figsize=(16,14))\n",
    "\n",
    "sns.countplot(df.Duration, hue=df.Risk, palette=['forestgreen','tomato'],ax=ax[0])\n",
    "ax[0].set_title('Distribution of Duration', size=12)\n",
    "\n",
    "sns.distplot(df.Duration[df.Risk=='good'], color='forestgreen',ax=ax[1])\n",
    "sns.distplot(df.Duration[df.Risk=='bad'], color='tomato',ax=ax[1])\n",
    "ax[1].set_title('Duration distribution for Good Risk and Bad Risk', size=12)\n",
    "\n",
    "sns.pointplot(df.Duration, df.Credit_amount, hue=df.Risk, palette=['forestgreen','tomato'],ax=ax[2])\n",
    "ax[2].set_title('Credit Distribution by Loan Duration', size=12)\n",
    "plt.subplots_adjust(top=1.10)"
   ]
  },
  {
   "cell_type": "markdown",
   "metadata": {},
   "source": [
    "- **Mostly loans** taken for **12 months, 18 months and 24 months**\n",
    "- Seems; **longer duration loans turned out to be bad** however short duration loans are at good risk"
   ]
  },
  {
   "cell_type": "markdown",
   "metadata": {},
   "source": [
    "# <a id='corr'></a>5. Correlation"
   ]
  },
  {
   "cell_type": "code",
   "execution_count": 33,
   "metadata": {
    "scrolled": false
   },
   "outputs": [
    {
     "data": {
      "text/plain": [
       "<matplotlib.axes._subplots.AxesSubplot at 0x246587e7388>"
      ]
     },
     "execution_count": 33,
     "metadata": {},
     "output_type": "execute_result"
    },
    {
     "data": {
      "image/png": "[encoded data removed]",
      "text/plain": [
       "<Figure size 1008x576 with 2 Axes>"
      ]
     },
     "metadata": {
      "needs_background": "light"
     },
     "output_type": "display_data"
    }
   ],
   "source": [
    "plt.figure(figsize=(14,8))\n",
    "sns.heatmap(df.corr(), annot=True)"
   ]
  },
  {
   "cell_type": "markdown",
   "metadata": {},
   "source": [
    "- **Credit Amount, Duration, radio/TV, own housing are correlated with target variable**\n",
    "- **Credit amount and duration** are **highly positively correlated**\n",
    "- **Sex_male** is **positively correlated** with **aged_group_mid** and **negatively correlated** with **rent housing**"
   ]
  },
  {
   "cell_type": "markdown",
   "metadata": {},
   "source": [
    "# <a id='preprocessing'></a>6. Data Preprocessing"
   ]
  },
  {
   "cell_type": "markdown",
   "metadata": {},
   "source": [
    "## <a id='drop'></a>6a. Dropping unwanted features"
   ]
  },
  {
   "cell_type": "code",
   "execution_count": 34,
   "metadata": {},
   "outputs": [],
   "source": [
    "# Drop saving accounts and checking account as these features carries much of null values\n",
    "\n",
    "df.drop(['Age','Saving_accounts', 'Checking_account'], axis=1, inplace=True)"
   ]
  },
  {
   "cell_type": "markdown",
   "metadata": {},
   "source": [
    "## <a id='encoding'></a>6b. Applying encoding techniques"
   ]
  },
  {
   "cell_type": "code",
   "execution_count": 35,
   "metadata": {},
   "outputs": [],
   "source": [
    "# Lets apply encoding using get_dummies method\n",
    "\n",
    "df = pd.get_dummies(df, drop_first=True)"
   ]
  },
  {
   "cell_type": "code",
   "execution_count": 36,
   "metadata": {
    "scrolled": true
   },
   "outputs": [
    {
     "data": {
      "text/html": [
       "<div>\n",
       "<style scoped>\n",
       "    .dataframe tbody tr th:only-of-type {\n",
       "        vertical-align: middle;\n",
       "    }\n",
       "\n",
       "    .dataframe tbody tr th {\n",
       "        vertical-align: top;\n",
       "    }\n",
       "\n",
       "    .dataframe thead th {\n",
       "        text-align: right;\n",
       "    }\n",
       "</style>\n",
       "<table border=\"1\" class=\"dataframe\">\n",
       "  <thead>\n",
       "    <tr style=\"text-align: right;\">\n",
       "      <th></th>\n",
       "      <th>Job</th>\n",
       "      <th>Credit_amount</th>\n",
       "      <th>Duration</th>\n",
       "      <th>Sex_male</th>\n",
       "      <th>Housing_own</th>\n",
       "      <th>Housing_rent</th>\n",
       "      <th>Purpose_car</th>\n",
       "      <th>Purpose_domestic appliances</th>\n",
       "      <th>Purpose_education</th>\n",
       "      <th>Purpose_furniture/equipment</th>\n",
       "      <th>Purpose_radio/TV</th>\n",
       "      <th>Purpose_repairs</th>\n",
       "      <th>Purpose_vacation/others</th>\n",
       "      <th>Risk_good</th>\n",
       "      <th>age_group_adult</th>\n",
       "      <th>age_group_mid</th>\n",
       "      <th>age_group_senior</th>\n",
       "    </tr>\n",
       "  </thead>\n",
       "  <tbody>\n",
       "    <tr>\n",
       "      <th>0</th>\n",
       "      <td>2</td>\n",
       "      <td>1169</td>\n",
       "      <td>6</td>\n",
       "      <td>1</td>\n",
       "      <td>1</td>\n",
       "      <td>0</td>\n",
       "      <td>0</td>\n",
       "      <td>0</td>\n",
       "      <td>0</td>\n",
       "      <td>0</td>\n",
       "      <td>1</td>\n",
       "      <td>0</td>\n",
       "      <td>0</td>\n",
       "      <td>1</td>\n",
       "      <td>0</td>\n",
       "      <td>0</td>\n",
       "      <td>1</td>\n",
       "    </tr>\n",
       "    <tr>\n",
       "      <th>1</th>\n",
       "      <td>2</td>\n",
       "      <td>5951</td>\n",
       "      <td>48</td>\n",
       "      <td>0</td>\n",
       "      <td>1</td>\n",
       "      <td>0</td>\n",
       "      <td>0</td>\n",
       "      <td>0</td>\n",
       "      <td>0</td>\n",
       "      <td>0</td>\n",
       "      <td>1</td>\n",
       "      <td>0</td>\n",
       "      <td>0</td>\n",
       "      <td>0</td>\n",
       "      <td>0</td>\n",
       "      <td>0</td>\n",
       "      <td>0</td>\n",
       "    </tr>\n",
       "    <tr>\n",
       "      <th>2</th>\n",
       "      <td>1</td>\n",
       "      <td>2096</td>\n",
       "      <td>12</td>\n",
       "      <td>1</td>\n",
       "      <td>1</td>\n",
       "      <td>0</td>\n",
       "      <td>0</td>\n",
       "      <td>0</td>\n",
       "      <td>1</td>\n",
       "      <td>0</td>\n",
       "      <td>0</td>\n",
       "      <td>0</td>\n",
       "      <td>0</td>\n",
       "      <td>1</td>\n",
       "      <td>0</td>\n",
       "      <td>1</td>\n",
       "      <td>0</td>\n",
       "    </tr>\n",
       "    <tr>\n",
       "      <th>3</th>\n",
       "      <td>2</td>\n",
       "      <td>7882</td>\n",
       "      <td>42</td>\n",
       "      <td>1</td>\n",
       "      <td>0</td>\n",
       "      <td>0</td>\n",
       "      <td>0</td>\n",
       "      <td>0</td>\n",
       "      <td>0</td>\n",
       "      <td>1</td>\n",
       "      <td>0</td>\n",
       "      <td>0</td>\n",
       "      <td>0</td>\n",
       "      <td>1</td>\n",
       "      <td>1</td>\n",
       "      <td>0</td>\n",
       "      <td>0</td>\n",
       "    </tr>\n",
       "    <tr>\n",
       "      <th>4</th>\n",
       "      <td>2</td>\n",
       "      <td>4870</td>\n",
       "      <td>24</td>\n",
       "      <td>1</td>\n",
       "      <td>0</td>\n",
       "      <td>0</td>\n",
       "      <td>1</td>\n",
       "      <td>0</td>\n",
       "      <td>0</td>\n",
       "      <td>0</td>\n",
       "      <td>0</td>\n",
       "      <td>0</td>\n",
       "      <td>0</td>\n",
       "      <td>0</td>\n",
       "      <td>0</td>\n",
       "      <td>1</td>\n",
       "      <td>0</td>\n",
       "    </tr>\n",
       "  </tbody>\n",
       "</table>\n",
       "</div>"
      ],
      "text/plain": [
       "   Job  Credit_amount  Duration  Sex_male  Housing_own  Housing_rent  \\\n",
       "0    2           1169         6         1            1             0   \n",
       "1    2           5951        48         0            1             0   \n",
       "2    1           2096        12         1            1             0   \n",
       "3    2           7882        42         1            0             0   \n",
       "4    2           4870        24         1            0             0   \n",
       "\n",
       "   Purpose_car  Purpose_domestic appliances  Purpose_education  \\\n",
       "0            0                            0                  0   \n",
       "1            0                            0                  0   \n",
       "2            0                            0                  1   \n",
       "3            0                            0                  0   \n",
       "4            1                            0                  0   \n",
       "\n",
       "   Purpose_furniture/equipment  Purpose_radio/TV  Purpose_repairs  \\\n",
       "0                            0                 1                0   \n",
       "1                            0                 1                0   \n",
       "2                            0                 0                0   \n",
       "3                            1                 0                0   \n",
       "4                            0                 0                0   \n",
       "\n",
       "   Purpose_vacation/others  Risk_good  age_group_adult  age_group_mid  \\\n",
       "0                        0          1                0              0   \n",
       "1                        0          0                0              0   \n",
       "2                        0          1                0              1   \n",
       "3                        0          1                1              0   \n",
       "4                        0          0                0              1   \n",
       "\n",
       "   age_group_senior  \n",
       "0                 1  \n",
       "1                 0  \n",
       "2                 0  \n",
       "3                 0  \n",
       "4                 0  "
      ]
     },
     "execution_count": 36,
     "metadata": {},
     "output_type": "execute_result"
    }
   ],
   "source": [
    "df.head()"
   ]
  },
  {
   "cell_type": "markdown",
   "metadata": {},
   "source": [
    "### Rearranging the Risk_good feature as last column. Just to ease the process"
   ]
  },
  {
   "cell_type": "code",
   "execution_count": 37,
   "metadata": {
    "scrolled": false
   },
   "outputs": [],
   "source": [
    "# Securing Risk_good\n",
    "Risk_good = df.Risk_good\n",
    "\n",
    "# Dropping Risk_good\n",
    "df.drop('Risk_good', axis=1, inplace=True)\n",
    "\n",
    "# Joining back to get it as last feature\n",
    "df = df.join(Risk_good)"
   ]
  },
  {
   "cell_type": "markdown",
   "metadata": {},
   "source": [
    "### Change the data type of features to integar"
   ]
  },
  {
   "cell_type": "code",
   "execution_count": 38,
   "metadata": {},
   "outputs": [
    {
     "name": "stdout",
     "output_type": "stream",
     "text": [
      "<class 'pandas.core.frame.DataFrame'>\n",
      "Int64Index: 1000 entries, 0 to 999\n",
      "Data columns (total 17 columns):\n",
      " #   Column                       Non-Null Count  Dtype\n",
      "---  ------                       --------------  -----\n",
      " 0   Job                          1000 non-null   int64\n",
      " 1   Credit_amount                1000 non-null   int64\n",
      " 2   Duration                     1000 non-null   int64\n",
      " 3   Sex_male                     1000 non-null   uint8\n",
      " 4   Housing_own                  1000 non-null   uint8\n",
      " 5   Housing_rent                 1000 non-null   uint8\n",
      " 6   Purpose_car                  1000 non-null   uint8\n",
      " 7   Purpose_domestic appliances  1000 non-null   uint8\n",
      " 8   Purpose_education            1000 non-null   uint8\n",
      " 9   Purpose_furniture/equipment  1000 non-null   uint8\n",
      " 10  Purpose_radio/TV             1000 non-null   uint8\n",
      " 11  Purpose_repairs              1000 non-null   uint8\n",
      " 12  Purpose_vacation/others      1000 non-null   uint8\n",
      " 13  age_group_adult              1000 non-null   uint8\n",
      " 14  age_group_mid                1000 non-null   uint8\n",
      " 15  age_group_senior             1000 non-null   uint8\n",
      " 16  Risk_good                    1000 non-null   uint8\n",
      "dtypes: int64(3), uint8(14)\n",
      "memory usage: 84.9 KB\n"
     ]
    }
   ],
   "source": [
    "df.info()"
   ]
  },
  {
   "cell_type": "code",
   "execution_count": 39,
   "metadata": {},
   "outputs": [],
   "source": [
    "# Converting data type to int for all features\n",
    "\n",
    "for i in df.columns:\n",
    "    df[i] = df[i].astype('int')"
   ]
  },
  {
   "cell_type": "code",
   "execution_count": 40,
   "metadata": {},
   "outputs": [
    {
     "name": "stdout",
     "output_type": "stream",
     "text": [
      "<class 'pandas.core.frame.DataFrame'>\n",
      "Int64Index: 1000 entries, 0 to 999\n",
      "Data columns (total 17 columns):\n",
      " #   Column                       Non-Null Count  Dtype\n",
      "---  ------                       --------------  -----\n",
      " 0   Job                          1000 non-null   int32\n",
      " 1   Credit_amount                1000 non-null   int32\n",
      " 2   Duration                     1000 non-null   int32\n",
      " 3   Sex_male                     1000 non-null   int32\n",
      " 4   Housing_own                  1000 non-null   int32\n",
      " 5   Housing_rent                 1000 non-null   int32\n",
      " 6   Purpose_car                  1000 non-null   int32\n",
      " 7   Purpose_domestic appliances  1000 non-null   int32\n",
      " 8   Purpose_education            1000 non-null   int32\n",
      " 9   Purpose_furniture/equipment  1000 non-null   int32\n",
      " 10  Purpose_radio/TV             1000 non-null   int32\n",
      " 11  Purpose_repairs              1000 non-null   int32\n",
      " 12  Purpose_vacation/others      1000 non-null   int32\n",
      " 13  age_group_adult              1000 non-null   int32\n",
      " 14  age_group_mid                1000 non-null   int32\n",
      " 15  age_group_senior             1000 non-null   int32\n",
      " 16  Risk_good                    1000 non-null   int32\n",
      "dtypes: int32(17)\n",
      "memory usage: 114.2 KB\n"
     ]
    }
   ],
   "source": [
    "df.info()"
   ]
  },
  {
   "cell_type": "markdown",
   "metadata": {},
   "source": [
    "## <a id='scaling'></a>6c. Scaling the data"
   ]
  },
  {
   "cell_type": "code",
   "execution_count": 41,
   "metadata": {},
   "outputs": [],
   "source": [
    "from sklearn.preprocessing import StandardScaler\n",
    "\n",
    "to_be_scaled = df.drop('Risk_good', axis=1)\n",
    "\n",
    "scale = StandardScaler()\n",
    "scaled_data = scale.fit_transform(to_be_scaled)\n",
    "\n",
    "# Designing a dataframe\n",
    "\n",
    "scaled_df = pd.DataFrame(scaled_data, columns=to_be_scaled.columns)\n",
    "scaled_df = scaled_df.join(df.loc[:, 'Risk_good'])"
   ]
  },
  {
   "cell_type": "code",
   "execution_count": 42,
   "metadata": {},
   "outputs": [
    {
     "data": {
      "text/html": [
       "<div>\n",
       "<style scoped>\n",
       "    .dataframe tbody tr th:only-of-type {\n",
       "        vertical-align: middle;\n",
       "    }\n",
       "\n",
       "    .dataframe tbody tr th {\n",
       "        vertical-align: top;\n",
       "    }\n",
       "\n",
       "    .dataframe thead th {\n",
       "        text-align: right;\n",
       "    }\n",
       "</style>\n",
       "<table border=\"1\" class=\"dataframe\">\n",
       "  <thead>\n",
       "    <tr style=\"text-align: right;\">\n",
       "      <th></th>\n",
       "      <th>Job</th>\n",
       "      <th>Credit_amount</th>\n",
       "      <th>Duration</th>\n",
       "      <th>Sex_male</th>\n",
       "      <th>Housing_own</th>\n",
       "      <th>Housing_rent</th>\n",
       "      <th>Purpose_car</th>\n",
       "      <th>Purpose_domestic appliances</th>\n",
       "      <th>Purpose_education</th>\n",
       "      <th>Purpose_furniture/equipment</th>\n",
       "      <th>Purpose_radio/TV</th>\n",
       "      <th>Purpose_repairs</th>\n",
       "      <th>Purpose_vacation/others</th>\n",
       "      <th>age_group_adult</th>\n",
       "      <th>age_group_mid</th>\n",
       "      <th>age_group_senior</th>\n",
       "      <th>Risk_good</th>\n",
       "    </tr>\n",
       "  </thead>\n",
       "  <tbody>\n",
       "    <tr>\n",
       "      <th>0</th>\n",
       "      <td>0.146949</td>\n",
       "      <td>-0.745131</td>\n",
       "      <td>-1.236478</td>\n",
       "      <td>0.670280</td>\n",
       "      <td>0.634448</td>\n",
       "      <td>-0.466933</td>\n",
       "      <td>-0.712949</td>\n",
       "      <td>-0.110208</td>\n",
       "      <td>-0.250398</td>\n",
       "      <td>-0.470108</td>\n",
       "      <td>1.603567</td>\n",
       "      <td>-0.149983</td>\n",
       "      <td>-0.110208</td>\n",
       "      <td>-0.891814</td>\n",
       "      <td>-0.405147</td>\n",
       "      <td>4.606758</td>\n",
       "      <td>1</td>\n",
       "    </tr>\n",
       "    <tr>\n",
       "      <th>1</th>\n",
       "      <td>0.146949</td>\n",
       "      <td>0.949817</td>\n",
       "      <td>2.248194</td>\n",
       "      <td>-1.491914</td>\n",
       "      <td>0.634448</td>\n",
       "      <td>-0.466933</td>\n",
       "      <td>-0.712949</td>\n",
       "      <td>-0.110208</td>\n",
       "      <td>-0.250398</td>\n",
       "      <td>-0.470108</td>\n",
       "      <td>1.603567</td>\n",
       "      <td>-0.149983</td>\n",
       "      <td>-0.110208</td>\n",
       "      <td>-0.891814</td>\n",
       "      <td>-0.405147</td>\n",
       "      <td>-0.217072</td>\n",
       "      <td>0</td>\n",
       "    </tr>\n",
       "    <tr>\n",
       "      <th>2</th>\n",
       "      <td>-1.383771</td>\n",
       "      <td>-0.416562</td>\n",
       "      <td>-0.738668</td>\n",
       "      <td>0.670280</td>\n",
       "      <td>0.634448</td>\n",
       "      <td>-0.466933</td>\n",
       "      <td>-0.712949</td>\n",
       "      <td>-0.110208</td>\n",
       "      <td>3.993639</td>\n",
       "      <td>-0.470108</td>\n",
       "      <td>-0.623610</td>\n",
       "      <td>-0.149983</td>\n",
       "      <td>-0.110208</td>\n",
       "      <td>-0.891814</td>\n",
       "      <td>2.468238</td>\n",
       "      <td>-0.217072</td>\n",
       "      <td>1</td>\n",
       "    </tr>\n",
       "    <tr>\n",
       "      <th>3</th>\n",
       "      <td>0.146949</td>\n",
       "      <td>1.634247</td>\n",
       "      <td>1.750384</td>\n",
       "      <td>0.670280</td>\n",
       "      <td>-1.576173</td>\n",
       "      <td>-0.466933</td>\n",
       "      <td>-0.712949</td>\n",
       "      <td>-0.110208</td>\n",
       "      <td>-0.250398</td>\n",
       "      <td>2.127172</td>\n",
       "      <td>-0.623610</td>\n",
       "      <td>-0.149983</td>\n",
       "      <td>-0.110208</td>\n",
       "      <td>1.121310</td>\n",
       "      <td>-0.405147</td>\n",
       "      <td>-0.217072</td>\n",
       "      <td>1</td>\n",
       "    </tr>\n",
       "    <tr>\n",
       "      <th>4</th>\n",
       "      <td>0.146949</td>\n",
       "      <td>0.566664</td>\n",
       "      <td>0.256953</td>\n",
       "      <td>0.670280</td>\n",
       "      <td>-1.576173</td>\n",
       "      <td>-0.466933</td>\n",
       "      <td>1.402626</td>\n",
       "      <td>-0.110208</td>\n",
       "      <td>-0.250398</td>\n",
       "      <td>-0.470108</td>\n",
       "      <td>-0.623610</td>\n",
       "      <td>-0.149983</td>\n",
       "      <td>-0.110208</td>\n",
       "      <td>-0.891814</td>\n",
       "      <td>2.468238</td>\n",
       "      <td>-0.217072</td>\n",
       "      <td>0</td>\n",
       "    </tr>\n",
       "  </tbody>\n",
       "</table>\n",
       "</div>"
      ],
      "text/plain": [
       "        Job  Credit_amount  Duration  Sex_male  Housing_own  Housing_rent  \\\n",
       "0  0.146949      -0.745131 -1.236478  0.670280     0.634448     -0.466933   \n",
       "1  0.146949       0.949817  2.248194 -1.491914     0.634448     -0.466933   \n",
       "2 -1.383771      -0.416562 -0.738668  0.670280     0.634448     -0.466933   \n",
       "3  0.146949       1.634247  1.750384  0.670280    -1.576173     -0.466933   \n",
       "4  0.146949       0.566664  0.256953  0.670280    -1.576173     -0.466933   \n",
       "\n",
       "   Purpose_car  Purpose_domestic appliances  Purpose_education  \\\n",
       "0    -0.712949                    -0.110208          -0.250398   \n",
       "1    -0.712949                    -0.110208          -0.250398   \n",
       "2    -0.712949                    -0.110208           3.993639   \n",
       "3    -0.712949                    -0.110208          -0.250398   \n",
       "4     1.402626                    -0.110208          -0.250398   \n",
       "\n",
       "   Purpose_furniture/equipment  Purpose_radio/TV  Purpose_repairs  \\\n",
       "0                    -0.470108          1.603567        -0.149983   \n",
       "1                    -0.470108          1.603567        -0.149983   \n",
       "2                    -0.470108         -0.623610        -0.149983   \n",
       "3                     2.127172         -0.623610        -0.149983   \n",
       "4                    -0.470108         -0.623610        -0.149983   \n",
       "\n",
       "   Purpose_vacation/others  age_group_adult  age_group_mid  age_group_senior  \\\n",
       "0                -0.110208        -0.891814      -0.405147          4.606758   \n",
       "1                -0.110208        -0.891814      -0.405147         -0.217072   \n",
       "2                -0.110208        -0.891814       2.468238         -0.217072   \n",
       "3                -0.110208         1.121310      -0.405147         -0.217072   \n",
       "4                -0.110208        -0.891814       2.468238         -0.217072   \n",
       "\n",
       "   Risk_good  \n",
       "0          1  \n",
       "1          0  \n",
       "2          1  \n",
       "3          1  \n",
       "4          0  "
      ]
     },
     "execution_count": 42,
     "metadata": {},
     "output_type": "execute_result"
    }
   ],
   "source": [
    "scaled_df.head()"
   ]
  },
  {
   "cell_type": "markdown",
   "metadata": {},
   "source": [
    "## <a id='Xy'></a>6d. Define X and y"
   ]
  },
  {
   "cell_type": "code",
   "execution_count": 43,
   "metadata": {},
   "outputs": [],
   "source": [
    "X = scaled_df.drop('Risk_good', axis=1)\n",
    "y = scaled_df.Risk_good"
   ]
  },
  {
   "cell_type": "markdown",
   "metadata": {},
   "source": [
    "## <a id='split'></a>6e. Splitting data into train and test"
   ]
  },
  {
   "cell_type": "code",
   "execution_count": 44,
   "metadata": {},
   "outputs": [],
   "source": [
    "from sklearn.model_selection import train_test_split, cross_val_score, GridSearchCV, RandomizedSearchCV, StratifiedShuffleSplit\n",
    "\n",
    "X_train, X_test, y_train, y_test = train_test_split(X, y, test_size=0.25, random_state=42)"
   ]
  },
  {
   "cell_type": "code",
   "execution_count": 45,
   "metadata": {},
   "outputs": [
    {
     "name": "stdout",
     "output_type": "stream",
     "text": [
      "(750, 16)\n",
      "(250, 16)\n",
      "(750,)\n",
      "(250,)\n"
     ]
    }
   ],
   "source": [
    "print(X_train.shape)\n",
    "print(X_test.shape)\n",
    "print(y_train.shape)\n",
    "print(y_test.shape)"
   ]
  },
  {
   "cell_type": "markdown",
   "metadata": {},
   "source": [
    "# <a id='algo'></a>7. Applying some classification algorithms"
   ]
  },
  {
   "cell_type": "markdown",
   "metadata": {},
   "source": [
    "## <a id='logit'></a><font color='crimson'>7a. Logistic Regression"
   ]
  },
  {
   "cell_type": "code",
   "execution_count": 46,
   "metadata": {},
   "outputs": [
    {
     "name": "stdout",
     "output_type": "stream",
     "text": [
      "Logit Accuracy:  0.696\n",
      "--------------------------------------------------\n",
      "              precision    recall  f1-score   support\n",
      "\n",
      "           0       0.44      0.19      0.27        72\n",
      "           1       0.73      0.90      0.81       178\n",
      "\n",
      "    accuracy                           0.70       250\n",
      "   macro avg       0.59      0.55      0.54       250\n",
      "weighted avg       0.65      0.70      0.65       250\n",
      "\n"
     ]
    }
   ],
   "source": [
    "# importing ML algorithm\n",
    "from sklearn.linear_model import LogisticRegression\n",
    "\n",
    "# importing accuracy metrics\n",
    "from sklearn.metrics import accuracy_score, roc_auc_score, roc_curve, classification_report, confusion_matrix, auc, f1_score\n",
    "\n",
    "# calling model and fitting the training data\n",
    "\n",
    "logit = LogisticRegression()\n",
    "logit.fit(X_train, y_train)\n",
    "\n",
    "# predictions\n",
    "y_pred = logit.predict(X_test)\n",
    "\n",
    "# accuracy and classification report\n",
    "print('Logit Accuracy: ',accuracy_score(y_test, y_pred))\n",
    "print('-'*50)\n",
    "print(classification_report(y_test, y_pred))"
   ]
  },
  {
   "cell_type": "markdown",
   "metadata": {},
   "source": [
    "<font color='dodgerblue'>**AUC & ROC Curve**"
   ]
  },
  {
   "cell_type": "code",
   "execution_count": 47,
   "metadata": {},
   "outputs": [
    {
     "name": "stdout",
     "output_type": "stream",
     "text": [
      "0.5658551810237202\n"
     ]
    },
    {
     "data": {
      "text/plain": [
       "Text(0.5, 1.0, 'ROC for Bad Risk')"
      ]
     },
     "execution_count": 47,
     "metadata": {},
     "output_type": "execute_result"
    },
    {
     "data": {
      "image/png": "[encoded data removed]",
      "text/plain": [
       "<Figure size 432x288 with 1 Axes>"
      ]
     },
     "metadata": {
      "needs_background": "light"
     },
     "output_type": "display_data"
    }
   ],
   "source": [
    "fpr, tpr, thresh = roc_curve(y_test, logit.predict_proba(X_test)[:,1])\n",
    "\n",
    "ROC_AUC = auc(fpr, tpr)\n",
    "print(ROC_AUC)\n",
    "\n",
    "plt.plot(fpr, tpr, label='ROC Curve (area=%.2f)' %ROC_AUC, linewidth=2)\n",
    "plt.plot([0,1],[0,1], 'k--', linewidth=2)\n",
    "plt.xlim([0,1])\n",
    "plt.ylim([0,1.1])\n",
    "plt.xlabel('False Positive Rate')\n",
    "plt.ylabel('True Positive Rate')\n",
    "plt.title('ROC for Bad Risk')"
   ]
  },
  {
   "cell_type": "markdown",
   "metadata": {},
   "source": [
    "<font color='dodgerblue'>**Precision Recall Curve**"
   ]
  },
  {
   "cell_type": "code",
   "execution_count": 48,
   "metadata": {},
   "outputs": [
    {
     "data": {
      "text/plain": [
       "Text(0.5, 1.0, 'Precision Recall Curve for Bad Risk')"
      ]
     },
     "execution_count": 48,
     "metadata": {},
     "output_type": "execute_result"
    },
    {
     "data": {
      "image/png": "[encoded data removed]",
      "text/plain": [
       "<Figure size 432x288 with 1 Axes>"
      ]
     },
     "metadata": {
      "needs_background": "light"
     },
     "output_type": "display_data"
    }
   ],
   "source": [
    "from sklearn.metrics import precision_recall_curve\n",
    "\n",
    "precision, recall, thresh = precision_recall_curve(y_test, logit.predict_proba(X_test)[:,1])\n",
    "\n",
    "PR_AUC = auc(recall, precision)\n",
    "\n",
    "plt.plot(recall, precision, label='PR curve (area=%.2f)'%PR_AUC, linewidth=2)\n",
    "plt.xlabel('Recall')\n",
    "plt.ylabel('Precision')\n",
    "plt.title('Precision Recall Curve for Bad Risk')"
   ]
  },
  {
   "cell_type": "markdown",
   "metadata": {},
   "source": [
    "### Using Cross Validation"
   ]
  },
  {
   "cell_type": "code",
   "execution_count": 49,
   "metadata": {},
   "outputs": [
    {
     "name": "stdout",
     "output_type": "stream",
     "text": [
      "[0.7287234  0.69148936 0.69148936 0.70212766 0.74468085 0.68085106\n",
      " 0.72340426 0.68617021 0.72340426 0.67021277]\n",
      "0.7042553191489362\n"
     ]
    }
   ],
   "source": [
    "cv = StratifiedShuffleSplit(n_splits=10, test_size=0.25, random_state=42)\n",
    "\n",
    "logit_accuracies = cross_val_score(LogisticRegression(), X_train, y_train, cv=cv, n_jobs=-1)\n",
    "\n",
    "print(logit_accuracies)\n",
    "print(logit_accuracies.mean())"
   ]
  },
  {
   "cell_type": "markdown",
   "metadata": {},
   "source": [
    "### Applying Grid SearchCV to find the best parameters"
   ]
  },
  {
   "cell_type": "code",
   "execution_count": 50,
   "metadata": {},
   "outputs": [
    {
     "name": "stdout",
     "output_type": "stream",
     "text": [
      "0.7074468085106385\n",
      "LogisticRegression(C=0.1, class_weight=None, dual=False, fit_intercept=True,\n",
      "                   intercept_scaling=1, l1_ratio=None, max_iter=100,\n",
      "                   multi_class='auto', n_jobs=None, penalty='l2',\n",
      "                   random_state=None, solver='lbfgs', tol=0.0001, verbose=0,\n",
      "                   warm_start=False)\n",
      "{'C': 0.1, 'penalty': 'l2'}\n"
     ]
    }
   ],
   "source": [
    "# Grid SearchCV\n",
    "\n",
    "params = {'C':[0.1,.2,.3,.4,.5,.6,.7,.8,.9,1,2,3,4,5,6,7,8,9,10,11,12,13,14,15,16,17,18,19,20],\n",
    "         'penalty':['l1','l2']}\n",
    "\n",
    "grid = GridSearchCV(logit, param_grid=params, cv=cv, n_jobs=-1, scoring='accuracy')\n",
    "\n",
    "grid.fit(X_train, y_train)\n",
    "\n",
    "print(grid.best_score_)\n",
    "print(grid.best_estimator_)\n",
    "print(grid.best_params_)"
   ]
  },
  {
   "cell_type": "markdown",
   "metadata": {},
   "source": [
    "<font color='dodgerblue'>**Model Accuracy on best parameters**"
   ]
  },
  {
   "cell_type": "code",
   "execution_count": 51,
   "metadata": {},
   "outputs": [
    {
     "name": "stdout",
     "output_type": "stream",
     "text": [
      "grid_logit 0.7213333333333334\n"
     ]
    }
   ],
   "source": [
    "grid_logit = grid.best_estimator_\n",
    "print('grid_logit',grid_logit.score(X_train, y_train))"
   ]
  },
  {
   "cell_type": "markdown",
   "metadata": {},
   "source": [
    "### Applying Randomized SearchCV to find the best parameters"
   ]
  },
  {
   "cell_type": "code",
   "execution_count": 52,
   "metadata": {
    "scrolled": true
   },
   "outputs": [
    {
     "name": "stdout",
     "output_type": "stream",
     "text": [
      "0.6952127659574467\n",
      "LogisticRegression(C=0.3, class_weight=None, dual=False, fit_intercept=True,\n",
      "                   intercept_scaling=1, l1_ratio=None, max_iter=100,\n",
      "                   multi_class='auto', n_jobs=None, penalty='l2',\n",
      "                   random_state=None, solver='lbfgs', tol=0.0001, verbose=0,\n",
      "                   warm_start=False)\n",
      "{'penalty': 'l2', 'C': 0.3}\n"
     ]
    }
   ],
   "source": [
    "cv = StratifiedShuffleSplit(n_splits=10, test_size=0.25)\n",
    "\n",
    "grid = RandomizedSearchCV(logit, param_distributions=params, n_iter=10, scoring='accuracy', \n",
    "                             n_jobs=-1, cv=cv, random_state=42)\n",
    "grid.fit(X_train, y_train)\n",
    "\n",
    "print(grid.best_score_)\n",
    "print(grid.best_estimator_)\n",
    "print(grid.best_params_)"
   ]
  },
  {
   "cell_type": "markdown",
   "metadata": {},
   "source": [
    "<font color='dodgerblue'>**Model Accuracy on best parameters**"
   ]
  },
  {
   "cell_type": "code",
   "execution_count": 53,
   "metadata": {},
   "outputs": [
    {
     "name": "stdout",
     "output_type": "stream",
     "text": [
      "rand_logit: 0.7226666666666667\n"
     ]
    }
   ],
   "source": [
    "rand_logit = grid.best_estimator_\n",
    "print('rand_logit:',rand_logit.score(X_train, y_train))"
   ]
  },
  {
   "cell_type": "markdown",
   "metadata": {},
   "source": [
    "## <a id='knn'></a><font color='crimson'>7b. K-Nearest Neighbors"
   ]
  },
  {
   "cell_type": "markdown",
   "metadata": {},
   "source": [
    "### Applying Grid SearchCV to find the best parameters"
   ]
  },
  {
   "cell_type": "code",
   "execution_count": 54,
   "metadata": {},
   "outputs": [
    {
     "name": "stdout",
     "output_type": "stream",
     "text": [
      "0.7015957446808511\n",
      "{'n_neighbors': 28, 'weights': 'uniform'}\n",
      "KNeighborsClassifier(algorithm='auto', leaf_size=30, metric='minkowski',\n",
      "                     metric_params=None, n_jobs=None, n_neighbors=28, p=2,\n",
      "                     weights='uniform')\n"
     ]
    }
   ],
   "source": [
    "# Using Grid SearchCV\n",
    "\n",
    "from sklearn.neighbors import KNeighborsClassifier\n",
    "\n",
    "knn = KNeighborsClassifier()\n",
    "\n",
    "param = {'n_neighbors':range(31),\n",
    "        'weights':['uniform','distance']}\n",
    "\n",
    "\n",
    "grid = GridSearchCV(knn, param_grid=param, cv=cv, n_jobs=-1, scoring='accuracy')\n",
    "grid.fit(X_train, y_train)\n",
    "\n",
    "print(grid.best_score_)\n",
    "print(grid.best_params_)\n",
    "print(grid.best_estimator_)"
   ]
  },
  {
   "cell_type": "markdown",
   "metadata": {},
   "source": [
    "<font color='dodgerblue'>**Model Accuracy on best parameters**"
   ]
  },
  {
   "cell_type": "code",
   "execution_count": 55,
   "metadata": {},
   "outputs": [
    {
     "name": "stdout",
     "output_type": "stream",
     "text": [
      "grid_knn:  0.716\n"
     ]
    }
   ],
   "source": [
    "grid_knn = grid.best_estimator_\n",
    "print('grid_knn: ', grid_knn.score(X_train, y_train))"
   ]
  },
  {
   "cell_type": "markdown",
   "metadata": {},
   "source": [
    "### Applying Randomized SearchCV to find the best parameters"
   ]
  },
  {
   "cell_type": "code",
   "execution_count": 56,
   "metadata": {},
   "outputs": [
    {
     "name": "stdout",
     "output_type": "stream",
     "text": [
      "0.7042553191489361\n",
      "{'weights': 'uniform', 'n_neighbors': 28}\n",
      "KNeighborsClassifier(algorithm='auto', leaf_size=30, metric='minkowski',\n",
      "                     metric_params=None, n_jobs=None, n_neighbors=28, p=2,\n",
      "                     weights='uniform')\n"
     ]
    }
   ],
   "source": [
    "# Using Randomized SearchCV\n",
    "\n",
    "grid = RandomizedSearchCV(knn, param_distributions=param, cv=cv, n_iter=10, random_state=42, n_jobs=-1, scoring='accuracy')\n",
    "grid.fit(X_train, y_train)\n",
    "\n",
    "print(grid.best_score_)\n",
    "print(grid.best_params_)\n",
    "print(grid.best_estimator_)"
   ]
  },
  {
   "cell_type": "markdown",
   "metadata": {},
   "source": [
    "<font color='dodgerblue'>**Model Accuracy on best parameters**"
   ]
  },
  {
   "cell_type": "code",
   "execution_count": 57,
   "metadata": {},
   "outputs": [
    {
     "name": "stdout",
     "output_type": "stream",
     "text": [
      "rand_knn:  0.716\n"
     ]
    }
   ],
   "source": [
    "rand_knn = grid.best_estimator_\n",
    "print('rand_knn: ',rand_knn.score(X_train, y_train))"
   ]
  },
  {
   "cell_type": "markdown",
   "metadata": {},
   "source": [
    "## <a id='nb'></a><font color='crimson'>7c. Gaussian Naive Bayes"
   ]
  },
  {
   "cell_type": "code",
   "execution_count": 58,
   "metadata": {},
   "outputs": [],
   "source": [
    "from sklearn.naive_bayes import GaussianNB "
   ]
  },
  {
   "cell_type": "code",
   "execution_count": 59,
   "metadata": {},
   "outputs": [
    {
     "name": "stdout",
     "output_type": "stream",
     "text": [
      "Gaussian:  0.6826666666666666\n"
     ]
    }
   ],
   "source": [
    "gaussian = GaussianNB()\n",
    "gaussian.fit(X_train, y_train)\n",
    "\n",
    "y_pred = gaussian.predict(X_train)\n",
    "\n",
    "score = accuracy_score(y_train, y_pred)\n",
    "print('Gaussian: ', score)"
   ]
  },
  {
   "cell_type": "code",
   "execution_count": 60,
   "metadata": {
    "scrolled": true
   },
   "outputs": [
    {
     "data": {
      "text/plain": [
       "array([[ 90, 138],\n",
       "       [100, 422]], dtype=int64)"
      ]
     },
     "execution_count": 60,
     "metadata": {},
     "output_type": "execute_result"
    }
   ],
   "source": [
    "confusion_matrix(y_train, y_pred)"
   ]
  },
  {
   "cell_type": "code",
   "execution_count": 61,
   "metadata": {},
   "outputs": [
    {
     "name": "stdout",
     "output_type": "stream",
     "text": [
      "              precision    recall  f1-score   support\n",
      "\n",
      "           0       0.47      0.39      0.43       228\n",
      "           1       0.75      0.81      0.78       522\n",
      "\n",
      "    accuracy                           0.68       750\n",
      "   macro avg       0.61      0.60      0.61       750\n",
      "weighted avg       0.67      0.68      0.67       750\n",
      "\n"
     ]
    }
   ],
   "source": [
    "print(classification_report(y_train, y_pred))"
   ]
  },
  {
   "cell_type": "markdown",
   "metadata": {},
   "source": [
    "## <a id='tree'></a><font color='crimson'>7d. Decision Tree"
   ]
  },
  {
   "cell_type": "code",
   "execution_count": 62,
   "metadata": {},
   "outputs": [],
   "source": [
    "from sklearn.tree import DecisionTreeClassifier\n",
    "\n",
    "d_tree = DecisionTreeClassifier()\n",
    "\n",
    "max_depth = range(1,21)\n",
    "criterion = ['entropy','gini']\n",
    "\n",
    "param = {'max_depth':max_depth,\n",
    "         'criterion':criterion}\n",
    "\n",
    "cv = StratifiedShuffleSplit(n_splits=20, random_state=42, test_size=0.25)"
   ]
  },
  {
   "cell_type": "markdown",
   "metadata": {},
   "source": [
    "### Applying Grid SearchCV to find the best parameters"
   ]
  },
  {
   "cell_type": "code",
   "execution_count": 63,
   "metadata": {},
   "outputs": [
    {
     "name": "stdout",
     "output_type": "stream",
     "text": [
      "0.708244680851064\n",
      "DecisionTreeClassifier(ccp_alpha=0.0, class_weight=None, criterion='entropy',\n",
      "                       max_depth=3, max_features=None, max_leaf_nodes=None,\n",
      "                       min_impurity_decrease=0.0, min_impurity_split=None,\n",
      "                       min_samples_leaf=1, min_samples_split=2,\n",
      "                       min_weight_fraction_leaf=0.0, presort='deprecated',\n",
      "                       random_state=None, splitter='best')\n",
      "{'criterion': 'entropy', 'max_depth': 3}\n"
     ]
    }
   ],
   "source": [
    "grid = GridSearchCV(d_tree, param_grid=param, cv=cv, n_jobs=-1, scoring='accuracy')\n",
    "\n",
    "grid.fit(X_train, y_train)\n",
    "\n",
    "print(grid.best_score_)\n",
    "print(grid.best_estimator_)\n",
    "print(grid.best_params_)"
   ]
  },
  {
   "cell_type": "markdown",
   "metadata": {},
   "source": [
    "<font color='dodgerblue'>**Model Accuracy on best parameters**"
   ]
  },
  {
   "cell_type": "code",
   "execution_count": 64,
   "metadata": {},
   "outputs": [
    {
     "name": "stdout",
     "output_type": "stream",
     "text": [
      "grid_tree:  0.736\n"
     ]
    }
   ],
   "source": [
    "grid_tree = grid.best_estimator_\n",
    "print('grid_tree: ',grid_tree.score(X_train, y_train))"
   ]
  },
  {
   "cell_type": "markdown",
   "metadata": {},
   "source": [
    "### Applying Randomized SearchCV to find the best parameters"
   ]
  },
  {
   "cell_type": "code",
   "execution_count": 65,
   "metadata": {},
   "outputs": [
    {
     "name": "stdout",
     "output_type": "stream",
     "text": [
      "0.7061170212765957\n",
      "DecisionTreeClassifier(ccp_alpha=0.0, class_weight=None, criterion='gini',\n",
      "                       max_depth=5, max_features=None, max_leaf_nodes=None,\n",
      "                       min_impurity_decrease=0.0, min_impurity_split=None,\n",
      "                       min_samples_leaf=1, min_samples_split=2,\n",
      "                       min_weight_fraction_leaf=0.0, presort='deprecated',\n",
      "                       random_state=None, splitter='best')\n",
      "{'max_depth': 5, 'criterion': 'gini'}\n"
     ]
    }
   ],
   "source": [
    "grid = RandomizedSearchCV(d_tree, param_distributions=param, n_iter=20, n_jobs=-1, random_state=42, cv=cv, scoring='accuracy')\n",
    "grid.fit(X_train, y_train)\n",
    "\n",
    "print(grid.best_score_)\n",
    "print(grid.best_estimator_)\n",
    "print(grid.best_params_)"
   ]
  },
  {
   "cell_type": "markdown",
   "metadata": {},
   "source": [
    "<font color='dodgerblue'>**Model Accuracy on best parameters**"
   ]
  },
  {
   "cell_type": "code",
   "execution_count": 66,
   "metadata": {},
   "outputs": [
    {
     "name": "stdout",
     "output_type": "stream",
     "text": [
      "rand_tree:  0.776\n"
     ]
    }
   ],
   "source": [
    "rand_tree = grid.best_estimator_\n",
    "print('rand_tree: ',rand_tree.score(X_train, y_train))"
   ]
  },
  {
   "cell_type": "markdown",
   "metadata": {},
   "source": [
    "## <a id='forest'></a><font color='crimson'>7e. Random Forest"
   ]
  },
  {
   "cell_type": "code",
   "execution_count": 67,
   "metadata": {},
   "outputs": [],
   "source": [
    "from sklearn.ensemble import RandomForestClassifier\n",
    "\n",
    "forest = RandomForestClassifier()\n",
    "\n",
    "n_estimators = range(100, 660, 50)\n",
    "criterion = ['gini', 'entropy']\n",
    "max_depth = range(1, 21)\n",
    "bootstrap = [True, False]\n",
    "\n",
    "param = {'n_estimators': n_estimators,\n",
    "        'criterion': criterion,\n",
    "        'max_depth': max_depth,\n",
    "        'bootstrap': bootstrap}\n",
    "\n",
    "cv = StratifiedShuffleSplit(n_splits=20, test_size=0.25, random_state=42)"
   ]
  },
  {
   "cell_type": "markdown",
   "metadata": {},
   "source": [
    "### Applying Randomized SearchCV to find the best parameters"
   ]
  },
  {
   "cell_type": "code",
   "execution_count": 68,
   "metadata": {},
   "outputs": [
    {
     "name": "stdout",
     "output_type": "stream",
     "text": [
      "0.7047872340425532\n",
      "RandomForestClassifier(bootstrap=True, ccp_alpha=0.0, class_weight=None,\n",
      "                       criterion='gini', max_depth=8, max_features='auto',\n",
      "                       max_leaf_nodes=None, max_samples=None,\n",
      "                       min_impurity_decrease=0.0, min_impurity_split=None,\n",
      "                       min_samples_leaf=1, min_samples_split=2,\n",
      "                       min_weight_fraction_leaf=0.0, n_estimators=200,\n",
      "                       n_jobs=None, oob_score=False, random_state=None,\n",
      "                       verbose=0, warm_start=False)\n",
      "{'n_estimators': 200, 'max_depth': 8, 'criterion': 'gini', 'bootstrap': True}\n"
     ]
    }
   ],
   "source": [
    "grid = RandomizedSearchCV(forest, param_distributions=param, n_iter=10, n_jobs=-1, random_state=42, cv=cv, scoring='accuracy')\n",
    "grid.fit(X_train, y_train)\n",
    "\n",
    "print(grid.best_score_)\n",
    "print(grid.best_estimator_)\n",
    "print(grid.best_params_)"
   ]
  },
  {
   "cell_type": "markdown",
   "metadata": {},
   "source": [
    "<font color='dodgerblue'>**Model Accuracy on best parameters**"
   ]
  },
  {
   "cell_type": "code",
   "execution_count": 69,
   "metadata": {
    "scrolled": true
   },
   "outputs": [
    {
     "name": "stdout",
     "output_type": "stream",
     "text": [
      "rand_forest:  0.8413333333333334\n"
     ]
    }
   ],
   "source": [
    "rand_forest = grid.best_estimator_\n",
    "print('rand_forest: ',rand_forest.score(X_train, y_train))"
   ]
  },
  {
   "cell_type": "markdown",
   "metadata": {},
   "source": [
    "<font color='dodgerblue'>**Confusion Matrix**"
   ]
  },
  {
   "cell_type": "code",
   "execution_count": 70,
   "metadata": {},
   "outputs": [
    {
     "data": {
      "text/plain": [
       "array([[109, 119],\n",
       "       [  0, 522]], dtype=int64)"
      ]
     },
     "execution_count": 70,
     "metadata": {},
     "output_type": "execute_result"
    }
   ],
   "source": [
    "confusion_matrix(y_train, rand_forest.predict(X_train))"
   ]
  },
  {
   "cell_type": "markdown",
   "metadata": {},
   "source": [
    "<font color='dodgerblue'>**Classfication Report**"
   ]
  },
  {
   "cell_type": "code",
   "execution_count": 71,
   "metadata": {
    "scrolled": true
   },
   "outputs": [
    {
     "name": "stdout",
     "output_type": "stream",
     "text": [
      "              precision    recall  f1-score   support\n",
      "\n",
      "           0       1.00      0.48      0.65       228\n",
      "           1       0.81      1.00      0.90       522\n",
      "\n",
      "    accuracy                           0.84       750\n",
      "   macro avg       0.91      0.74      0.77       750\n",
      "weighted avg       0.87      0.84      0.82       750\n",
      "\n"
     ]
    }
   ],
   "source": [
    "print(classification_report(y_train, rand_forest.predict(X_train)))"
   ]
  },
  {
   "cell_type": "markdown",
   "metadata": {},
   "source": [
    "## <a id='xgboost'></a><font color='crimson'>7f. XGBoost"
   ]
  },
  {
   "cell_type": "code",
   "execution_count": 72,
   "metadata": {},
   "outputs": [],
   "source": [
    "from xgboost import XGBClassifier\n",
    "\n",
    "xgb = XGBClassifier()\n",
    "\n",
    "param = {'n_estimators':range(100, 660, 50),\n",
    "         'learning_rate':[0.1,0.2,0.3,0.4,0.5,0.6,0.7,0.8,0.9,1],\n",
    "         'max_depth':range(1,21,1),\n",
    "         'min_child_weight':range(1,4,1)}"
   ]
  },
  {
   "cell_type": "markdown",
   "metadata": {},
   "source": [
    "### Applying Randomized SearchCV to find the best parameters"
   ]
  },
  {
   "cell_type": "code",
   "execution_count": 73,
   "metadata": {},
   "outputs": [
    {
     "name": "stdout",
     "output_type": "stream",
     "text": [
      "0.6779255319148936\n",
      "XGBClassifier(base_score=0.5, booster='gbtree', colsample_bylevel=1,\n",
      "              colsample_bynode=1, colsample_bytree=1, gamma=0, learning_rate=1,\n",
      "              max_delta_step=0, max_depth=1, min_child_weight=3, missing=None,\n",
      "              n_estimators=650, n_jobs=1, nthread=None,\n",
      "              objective='binary:logistic', random_state=0, reg_alpha=0,\n",
      "              reg_lambda=1, scale_pos_weight=1, seed=None, silent=None,\n",
      "              subsample=1, verbosity=1)\n",
      "{'n_estimators': 650, 'min_child_weight': 3, 'max_depth': 1, 'learning_rate': 1}\n"
     ]
    }
   ],
   "source": [
    "grid = RandomizedSearchCV(xgb, param_distributions=param, cv=cv, n_iter=10, n_jobs=-1, scoring='accuracy')\n",
    "\n",
    "grid.fit(X_train, y_train)\n",
    "\n",
    "print(grid.best_score_)\n",
    "print(grid.best_estimator_)\n",
    "print(grid.best_params_)"
   ]
  },
  {
   "cell_type": "markdown",
   "metadata": {},
   "source": [
    "<font color='dodgerblue'>**Model Accuracy on best parameters**"
   ]
  },
  {
   "cell_type": "code",
   "execution_count": 74,
   "metadata": {},
   "outputs": [
    {
     "name": "stdout",
     "output_type": "stream",
     "text": [
      "rand_xgb: 0.8013333333333333\n"
     ]
    }
   ],
   "source": [
    "rand_xgb = grid.best_estimator_\n",
    "print('rand_xgb:', rand_xgb.score(X_train, y_train))"
   ]
  },
  {
   "cell_type": "markdown",
   "metadata": {},
   "source": [
    "## <a id='bagging'></a><font color='crimson'>7g. Bagging Classifier"
   ]
  },
  {
   "cell_type": "code",
   "execution_count": 75,
   "metadata": {},
   "outputs": [],
   "source": [
    "from sklearn.ensemble import BaggingClassifier\n",
    "\n",
    "bag = BaggingClassifier()\n",
    "\n",
    "n_estimators = range(100, 660, 50)\n",
    "bootstrap = [True, False]\n",
    "\n",
    "param = {'n_estimators': n_estimators,\n",
    "        'bootstrap': bootstrap}\n",
    "\n",
    "cv = StratifiedShuffleSplit(n_splits=20, test_size=0.25, random_state=42)"
   ]
  },
  {
   "cell_type": "markdown",
   "metadata": {},
   "source": [
    "### Applying Randomized SearchCV to find the best parameters"
   ]
  },
  {
   "cell_type": "code",
   "execution_count": 76,
   "metadata": {},
   "outputs": [
    {
     "name": "stdout",
     "output_type": "stream",
     "text": [
      "0.6856382978723403\n",
      "BaggingClassifier(base_estimator=None, bootstrap=True, bootstrap_features=False,\n",
      "                  max_features=1.0, max_samples=1.0, n_estimators=500,\n",
      "                  n_jobs=None, oob_score=False, random_state=None, verbose=0,\n",
      "                  warm_start=False)\n",
      "{'n_estimators': 500, 'bootstrap': True}\n"
     ]
    }
   ],
   "source": [
    "grid = RandomizedSearchCV(bag, param_distributions=param, cv=cv, n_iter=10, scoring='accuracy', n_jobs=-1)\n",
    "\n",
    "grid.fit(X_train, y_train)\n",
    "\n",
    "print(grid.best_score_)\n",
    "print(grid.best_estimator_)\n",
    "print(grid.best_params_)"
   ]
  },
  {
   "cell_type": "markdown",
   "metadata": {},
   "source": [
    "<font color='dodgerblue'>**Model Accuracy on best parameters**"
   ]
  },
  {
   "cell_type": "code",
   "execution_count": 77,
   "metadata": {},
   "outputs": [
    {
     "name": "stdout",
     "output_type": "stream",
     "text": [
      "rand_bag: 1.0\n"
     ]
    }
   ],
   "source": [
    "rand_bag = grid.best_estimator_\n",
    "print('rand_bag:', rand_bag.score(X_train, y_train))"
   ]
  },
  {
   "cell_type": "markdown",
   "metadata": {},
   "source": [
    "## <a id='ada'></a><font color='crimson'>7h. AdaBoost"
   ]
  },
  {
   "cell_type": "code",
   "execution_count": 78,
   "metadata": {},
   "outputs": [],
   "source": [
    "from sklearn.ensemble import AdaBoostClassifier\n",
    "\n",
    "ada = AdaBoostClassifier()\n",
    "\n",
    "n_estimators = range(100, 660, 50)\n",
    "learning_rate = [0.1,0.2,0.3,0.4,0.5,0.6,0.7,0.8,0.9,1]\n",
    "\n",
    "param = {'n_estimators': n_estimators,\n",
    "        'learning_rate': learning_rate}\n",
    "\n",
    "cv = StratifiedShuffleSplit(n_splits=20, test_size=0.25, random_state=42)"
   ]
  },
  {
   "cell_type": "markdown",
   "metadata": {},
   "source": [
    "### Applying Randomized SearchCV to find the best parameters"
   ]
  },
  {
   "cell_type": "code",
   "execution_count": 79,
   "metadata": {},
   "outputs": [
    {
     "name": "stdout",
     "output_type": "stream",
     "text": [
      "0.7066489361702128\n",
      "AdaBoostClassifier(algorithm='SAMME.R', base_estimator=None, learning_rate=0.1,\n",
      "                   n_estimators=150, random_state=None)\n",
      "{'n_estimators': 150, 'learning_rate': 0.1}\n"
     ]
    }
   ],
   "source": [
    "grid = RandomizedSearchCV(ada, param_distributions=param, cv=cv, n_iter=10, n_jobs=-1, scoring='accuracy')\n",
    "\n",
    "grid.fit(X_train, y_train)\n",
    "\n",
    "print(grid.best_score_)\n",
    "print(grid.best_estimator_)\n",
    "print(grid.best_params_)"
   ]
  },
  {
   "cell_type": "markdown",
   "metadata": {},
   "source": [
    "<font color='dodgerblue'>**Model Accuracy on best parameters**"
   ]
  },
  {
   "cell_type": "code",
   "execution_count": 80,
   "metadata": {},
   "outputs": [
    {
     "name": "stdout",
     "output_type": "stream",
     "text": [
      "rand_ada: 0.7266666666666667\n"
     ]
    }
   ],
   "source": [
    "rand_ada = grid.best_estimator_\n",
    "print('rand_ada:', rand_ada.score(X_train, y_train))"
   ]
  },
  {
   "cell_type": "markdown",
   "metadata": {},
   "source": [
    "## <a id='xtra'></a><font color='crimson'>7i. Extra Tree Classifier"
   ]
  },
  {
   "cell_type": "code",
   "execution_count": 81,
   "metadata": {},
   "outputs": [],
   "source": [
    "from sklearn.ensemble import ExtraTreesClassifier\n",
    "\n",
    "extra_tree = ExtraTreesClassifier()\n",
    "\n",
    "n_estimators = range(100, 660, 50)\n",
    "criterion = ['gini', 'entropy']\n",
    "max_depth = range(1, 21)\n",
    "bootstrap = [True, False]\n",
    "\n",
    "param = {'n_estimators': n_estimators,\n",
    "        'criterion': criterion,\n",
    "        'max_depth': max_depth,\n",
    "        'bootstrap': bootstrap}\n",
    "\n",
    "cv = StratifiedShuffleSplit(n_splits=20, test_size=0.25, random_state=42)"
   ]
  },
  {
   "cell_type": "markdown",
   "metadata": {},
   "source": [
    "### Applying Randomized SearchCV to find the best parameters"
   ]
  },
  {
   "cell_type": "code",
   "execution_count": 82,
   "metadata": {},
   "outputs": [
    {
     "name": "stdout",
     "output_type": "stream",
     "text": [
      "0.701063829787234\n",
      "ExtraTreesClassifier(bootstrap=True, ccp_alpha=0.0, class_weight=None,\n",
      "                     criterion='gini', max_depth=8, max_features='auto',\n",
      "                     max_leaf_nodes=None, max_samples=None,\n",
      "                     min_impurity_decrease=0.0, min_impurity_split=None,\n",
      "                     min_samples_leaf=1, min_samples_split=2,\n",
      "                     min_weight_fraction_leaf=0.0, n_estimators=200,\n",
      "                     n_jobs=None, oob_score=False, random_state=None, verbose=0,\n",
      "                     warm_start=False)\n",
      "{'n_estimators': 200, 'max_depth': 8, 'criterion': 'gini', 'bootstrap': True}\n"
     ]
    }
   ],
   "source": [
    "grid = RandomizedSearchCV(extra_tree, param_distributions=param, n_iter=10, n_jobs=-1, random_state=42, \n",
    "                          cv=cv, scoring='accuracy')\n",
    "\n",
    "grid.fit(X_train, y_train)\n",
    "\n",
    "print(grid.best_score_)\n",
    "print(grid.best_estimator_)\n",
    "print(grid.best_params_)"
   ]
  },
  {
   "cell_type": "markdown",
   "metadata": {},
   "source": [
    "<font color='dodgerblue'>**Model Accuracy on best parameters**"
   ]
  },
  {
   "cell_type": "code",
   "execution_count": 83,
   "metadata": {
    "scrolled": true
   },
   "outputs": [
    {
     "name": "stdout",
     "output_type": "stream",
     "text": [
      "rand_extra_tree:  0.8213333333333334\n"
     ]
    }
   ],
   "source": [
    "rand_extra_tree = grid.best_estimator_\n",
    "print('rand_extra_tree: ',rand_extra_tree.score(X_train, y_train))"
   ]
  },
  {
   "cell_type": "markdown",
   "metadata": {},
   "source": [
    "## <a id='voting'></a><font color='crimson'>7j. Voting Classifier"
   ]
  },
  {
   "cell_type": "code",
   "execution_count": 84,
   "metadata": {},
   "outputs": [
    {
     "name": "stdout",
     "output_type": "stream",
     "text": [
      "voting: 0.716\n"
     ]
    }
   ],
   "source": [
    "from sklearn.ensemble import VotingClassifier\n",
    "\n",
    "voting = VotingClassifier(estimators=[\n",
    "    ('rand_logit',  rand_logit),\n",
    "    ('gaussian',  gaussian),\n",
    "    ('rand_knn',  rand_knn),\n",
    "    ('rand_tree',  rand_tree),\n",
    "    ('rand_forest',  rand_forest),\n",
    "    ('rand_xgb',  rand_xgb),\n",
    "    ('rand_ada',  rand_ada)], voting='hard')\n",
    "\n",
    "voting_classifier = voting.fit(X_train, y_train)\n",
    "\n",
    "y_pred = voting.predict(X_test)\n",
    "\n",
    "score = accuracy_score(y_test, y_pred)\n",
    "\n",
    "print('voting:', score)"
   ]
  },
  {
   "cell_type": "markdown",
   "metadata": {},
   "source": [
    "## <a id='compare'></a><font color='crimson'>7k. Comparing algorithms accuracy and Selecing the best model"
   ]
  },
  {
   "cell_type": "code",
   "execution_count": 85,
   "metadata": {
    "scrolled": false
   },
   "outputs": [],
   "source": [
    "all_models = [rand_logit, gaussian, rand_knn, rand_tree, rand_forest, rand_xgb, rand_ada, rand_extra_tree, voting]\n",
    "\n",
    "c = {}    # saving the algorithms and their accuracy in key value pair\n",
    "\n",
    "for i in all_models:\n",
    "    pred = i.predict(X_train)\n",
    "    score = accuracy_score(y_train, pred)\n",
    "    c[i] = score"
   ]
  },
  {
   "cell_type": "code",
   "execution_count": 86,
   "metadata": {
    "scrolled": true
   },
   "outputs": [],
   "source": [
    "models_str = ['rand_logit','gaussian','rand_knn','rand_tree','rand_forest','rand_xgb','rand_ada','rand_extra_tree','voting']\n",
    "\n",
    "info = []\n",
    "for i, n in zip(models_str, c.values()):\n",
    "    info.append((i,round(n,4)))"
   ]
  },
  {
   "cell_type": "code",
   "execution_count": 87,
   "metadata": {
    "scrolled": false
   },
   "outputs": [
    {
     "data": {
      "text/plain": [
       "[('rand_logit', 0.7227),\n",
       " ('gaussian', 0.6827),\n",
       " ('rand_knn', 0.716),\n",
       " ('rand_tree', 0.776),\n",
       " ('rand_forest', 0.8413),\n",
       " ('rand_xgb', 0.8013),\n",
       " ('rand_ada', 0.7267),\n",
       " ('rand_extra_tree', 0.8213),\n",
       " ('voting', 0.7627)]"
      ]
     },
     "execution_count": 87,
     "metadata": {},
     "output_type": "execute_result"
    }
   ],
   "source": [
    "info"
   ]
  },
  {
   "cell_type": "markdown",
   "metadata": {},
   "source": [
    "# <a id='save'></a>8. Finalyzing the model\n",
    "\n",
    "Saving the final model of the highest accuracy"
   ]
  },
  {
   "cell_type": "code",
   "execution_count": 88,
   "metadata": {},
   "outputs": [
    {
     "data": {
      "text/plain": [
       "[LogisticRegression(C=0.3, class_weight=None, dual=False, fit_intercept=True,\n",
       "                    intercept_scaling=1, l1_ratio=None, max_iter=100,\n",
       "                    multi_class='auto', n_jobs=None, penalty='l2',\n",
       "                    random_state=None, solver='lbfgs', tol=0.0001, verbose=0,\n",
       "                    warm_start=False),\n",
       " GaussianNB(priors=None, var_smoothing=1e-09),\n",
       " KNeighborsClassifier(algorithm='auto', leaf_size=30, metric='minkowski',\n",
       "                      metric_params=None, n_jobs=None, n_neighbors=28, p=2,\n",
       "                      weights='uniform'),\n",
       " DecisionTreeClassifier(ccp_alpha=0.0, class_weight=None, criterion='gini',\n",
       "                        max_depth=5, max_features=None, max_leaf_nodes=None,\n",
       "                        min_impurity_decrease=0.0, min_impurity_split=None,\n",
       "                        min_samples_leaf=1, min_samples_split=2,\n",
       "                        min_weight_fraction_leaf=0.0, presort='deprecated',\n",
       "                        random_state=None, splitter='best'),\n",
       " RandomForestClassifier(bootstrap=True, ccp_alpha=0.0, class_weight=None,\n",
       "                        criterion='gini', max_depth=8, max_features='auto',\n",
       "                        max_leaf_nodes=None, max_samples=None,\n",
       "                        min_impurity_decrease=0.0, min_impurity_split=None,\n",
       "                        min_samples_leaf=1, min_samples_split=2,\n",
       "                        min_weight_fraction_leaf=0.0, n_estimators=200,\n",
       "                        n_jobs=None, oob_score=False, random_state=None,\n",
       "                        verbose=0, warm_start=False),\n",
       " XGBClassifier(base_score=0.5, booster='gbtree', colsample_bylevel=1,\n",
       "               colsample_bynode=1, colsample_bytree=1, gamma=0, learning_rate=1,\n",
       "               max_delta_step=0, max_depth=1, min_child_weight=3, missing=None,\n",
       "               n_estimators=650, n_jobs=1, nthread=None,\n",
       "               objective='binary:logistic', random_state=0, reg_alpha=0,\n",
       "               reg_lambda=1, scale_pos_weight=1, seed=None, silent=None,\n",
       "               subsample=1, verbosity=1),\n",
       " AdaBoostClassifier(algorithm='SAMME.R', base_estimator=None, learning_rate=0.1,\n",
       "                    n_estimators=150, random_state=None),\n",
       " ExtraTreesClassifier(bootstrap=True, ccp_alpha=0.0, class_weight=None,\n",
       "                      criterion='gini', max_depth=8, max_features='auto',\n",
       "                      max_leaf_nodes=None, max_samples=None,\n",
       "                      min_impurity_decrease=0.0, min_impurity_split=None,\n",
       "                      min_samples_leaf=1, min_samples_split=2,\n",
       "                      min_weight_fraction_leaf=0.0, n_estimators=200,\n",
       "                      n_jobs=None, oob_score=False, random_state=None, verbose=0,\n",
       "                      warm_start=False),\n",
       " VotingClassifier(estimators=[('rand_logit',\n",
       "                               LogisticRegression(C=0.3, class_weight=None,\n",
       "                                                  dual=False, fit_intercept=True,\n",
       "                                                  intercept_scaling=1,\n",
       "                                                  l1_ratio=None, max_iter=100,\n",
       "                                                  multi_class='auto',\n",
       "                                                  n_jobs=None, penalty='l2',\n",
       "                                                  random_state=None,\n",
       "                                                  solver='lbfgs', tol=0.0001,\n",
       "                                                  verbose=0, warm_start=False)),\n",
       "                              ('gaussian',\n",
       "                               GaussianNB(priors=None, var_smoothing=1e-09)),\n",
       "                              ('rand_knn',\n",
       "                               K...\n",
       "                                             missing=None, n_estimators=650,\n",
       "                                             n_jobs=1, nthread=None,\n",
       "                                             objective='binary:logistic',\n",
       "                                             random_state=0, reg_alpha=0,\n",
       "                                             reg_lambda=1, scale_pos_weight=1,\n",
       "                                             seed=None, silent=None, subsample=1,\n",
       "                                             verbosity=1)),\n",
       "                              ('rand_ada',\n",
       "                               AdaBoostClassifier(algorithm='SAMME.R',\n",
       "                                                  base_estimator=None,\n",
       "                                                  learning_rate=0.1,\n",
       "                                                  n_estimators=150,\n",
       "                                                  random_state=None))],\n",
       "                  flatten_transform=True, n_jobs=None, voting='hard',\n",
       "                  weights=None)]"
      ]
     },
     "execution_count": 88,
     "metadata": {},
     "output_type": "execute_result"
    }
   ],
   "source": [
    "all_models"
   ]
  },
  {
   "cell_type": "code",
   "execution_count": 89,
   "metadata": {},
   "outputs": [],
   "source": [
    "test_pred = (max(c, key=c.get)).predict(X_test)"
   ]
  },
  {
   "cell_type": "code",
   "execution_count": 90,
   "metadata": {},
   "outputs": [
    {
     "data": {
      "text/plain": [
       "RandomForestClassifier(bootstrap=True, ccp_alpha=0.0, class_weight=None,\n",
       "                       criterion='gini', max_depth=8, max_features='auto',\n",
       "                       max_leaf_nodes=None, max_samples=None,\n",
       "                       min_impurity_decrease=0.0, min_impurity_split=None,\n",
       "                       min_samples_leaf=1, min_samples_split=2,\n",
       "                       min_weight_fraction_leaf=0.0, n_estimators=200,\n",
       "                       n_jobs=None, oob_score=False, random_state=None,\n",
       "                       verbose=0, warm_start=False)"
      ]
     },
     "execution_count": 90,
     "metadata": {},
     "output_type": "execute_result"
    }
   ],
   "source": [
    "# XGB algorithm produces the highest Accuracy amongst all algorithms \n",
    "\n",
    "my_model = max(c, key=c.get)\n",
    "my_model"
   ]
  },
  {
   "cell_type": "code",
   "execution_count": 91,
   "metadata": {
    "scrolled": true
   },
   "outputs": [],
   "source": [
    "# Make the prediction\n",
    "\n",
    "y_pred = my_model.predict(X_test)"
   ]
  },
  {
   "cell_type": "code",
   "execution_count": 92,
   "metadata": {},
   "outputs": [
    {
     "name": "stdout",
     "output_type": "stream",
     "text": [
      "Score:  0.7 \n",
      "\n",
      "[[ 10  62]\n",
      " [ 13 165]] \n",
      "\n",
      "              precision    recall  f1-score   support\n",
      "\n",
      "           0       0.43      0.14      0.21        72\n",
      "           1       0.73      0.93      0.81       178\n",
      "\n",
      "    accuracy                           0.70       250\n",
      "   macro avg       0.58      0.53      0.51       250\n",
      "weighted avg       0.64      0.70      0.64       250\n",
      "\n"
     ]
    }
   ],
   "source": [
    "print('Score: ', accuracy_score(y_test, y_pred),'\\n')\n",
    "print(confusion_matrix(y_test, y_pred),'\\n')\n",
    "print(classification_report(y_test, y_pred))"
   ]
  },
  {
   "cell_type": "markdown",
   "metadata": {},
   "source": [
    "### ***Above model was giving 84% accuracy on training set but very poor performance on test data (70% accuracy). There is a scope of overfitting hence need to deep dive for regularization techniques***"
   ]
  },
  {
   "cell_type": "markdown",
   "metadata": {},
   "source": [
    "# Overfitting Problem"
   ]
  },
  {
   "cell_type": "code",
   "execution_count": 93,
   "metadata": {},
   "outputs": [],
   "source": [
    "from sklearn.linear_model import LassoCV, ElasticNetCV"
   ]
  },
  {
   "cell_type": "code",
   "execution_count": 94,
   "metadata": {
    "scrolled": true
   },
   "outputs": [
    {
     "data": {
      "text/plain": [
       "['my_model.pkl']"
      ]
     },
     "execution_count": 94,
     "metadata": {},
     "output_type": "execute_result"
    }
   ],
   "source": [
    "import joblib\n",
    "\n",
    "joblib.dump(my_model, 'my_model.pkl')"
   ]
  },
  {
   "cell_type": "code",
   "execution_count": 95,
   "metadata": {},
   "outputs": [],
   "source": [
    "model_loaded = joblib.load('my_model.pkl')"
   ]
  },
  {
   "cell_type": "code",
   "execution_count": 96,
   "metadata": {},
   "outputs": [
    {
     "name": "stdout",
     "output_type": "stream",
     "text": [
      "Time Taken (in minutes) : 6.601987938086192\n"
     ]
    }
   ],
   "source": [
    "stop_time = time.time()\n",
    "\n",
    "print('Time Taken (in minutes) :', (stop_time-start_time)/60)"
   ]
  },
  {
   "cell_type": "markdown",
   "metadata": {},
   "source": [
    "<font style = 'float:right'>❤️ Rachit Saxena"
   ]
  }
 ],
 "metadata": {
  "kernelspec": {
   "display_name": "Python 3",
   "language": "python",
   "name": "python3"
  },
  "language_info": {
   "codemirror_mode": {
    "name": "ipython",
    "version": 3
   },
   "file_extension": ".py",
   "mimetype": "text/x-python",
   "name": "python",
   "nbconvert_exporter": "python",
   "pygments_lexer": "ipython3",
   "version": "3.7.6"
  }
 },
 "nbformat": 4,
 "nbformat_minor": 4
}
